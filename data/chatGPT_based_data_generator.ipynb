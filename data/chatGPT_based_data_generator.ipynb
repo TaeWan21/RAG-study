{
 "cells": [
  {
   "cell_type": "code",
   "execution_count": 1,
   "metadata": {},
   "outputs": [
    {
     "name": "stdout",
     "output_type": "stream",
     "text": [
      "Collecting openai\n",
      "  Downloading openai-1.76.0-py3-none-any.whl.metadata (25 kB)\n",
      "Collecting anyio<5,>=3.5.0 (from openai)\n",
      "  Downloading anyio-4.5.2-py3-none-any.whl.metadata (4.7 kB)\n",
      "Collecting distro<2,>=1.7.0 (from openai)\n",
      "  Downloading distro-1.9.0-py3-none-any.whl.metadata (6.8 kB)\n",
      "Collecting httpx<1,>=0.23.0 (from openai)\n",
      "  Using cached httpx-0.28.1-py3-none-any.whl.metadata (7.1 kB)\n",
      "Collecting jiter<1,>=0.4.0 (from openai)\n",
      "  Downloading jiter-0.9.0-cp38-cp38-macosx_11_0_arm64.whl.metadata (5.2 kB)\n",
      "Collecting pydantic<3,>=1.9.0 (from openai)\n",
      "  Downloading pydantic-2.10.6-py3-none-any.whl.metadata (30 kB)\n",
      "Collecting sniffio (from openai)\n",
      "  Using cached sniffio-1.3.1-py3-none-any.whl.metadata (3.9 kB)\n",
      "Collecting tqdm>4 (from openai)\n",
      "  Downloading tqdm-4.67.1-py3-none-any.whl.metadata (57 kB)\n",
      "Requirement already satisfied: typing-extensions<5,>=4.11 in /opt/anaconda3/envs/llm_study/lib/python3.8/site-packages (from openai) (4.12.2)\n",
      "Collecting idna>=2.8 (from anyio<5,>=3.5.0->openai)\n",
      "  Using cached idna-3.10-py3-none-any.whl.metadata (10 kB)\n",
      "Collecting exceptiongroup>=1.0.2 (from anyio<5,>=3.5.0->openai)\n",
      "  Using cached exceptiongroup-1.2.2-py3-none-any.whl.metadata (6.6 kB)\n",
      "Collecting certifi (from httpx<1,>=0.23.0->openai)\n",
      "  Downloading certifi-2025.1.31-py3-none-any.whl.metadata (2.5 kB)\n",
      "Collecting httpcore==1.* (from httpx<1,>=0.23.0->openai)\n",
      "  Downloading httpcore-1.0.8-py3-none-any.whl.metadata (21 kB)\n",
      "Collecting h11<0.15,>=0.13 (from httpcore==1.*->httpx<1,>=0.23.0->openai)\n",
      "  Using cached h11-0.14.0-py3-none-any.whl.metadata (8.2 kB)\n",
      "Collecting annotated-types>=0.6.0 (from pydantic<3,>=1.9.0->openai)\n",
      "  Downloading annotated_types-0.7.0-py3-none-any.whl.metadata (15 kB)\n",
      "Collecting pydantic-core==2.27.2 (from pydantic<3,>=1.9.0->openai)\n",
      "  Downloading pydantic_core-2.27.2-cp38-cp38-macosx_11_0_arm64.whl.metadata (6.6 kB)\n",
      "Downloading openai-1.76.0-py3-none-any.whl (661 kB)\n",
      "\u001b[2K   \u001b[90m━━━━━━━━━━━━━━━━━━━━━━━━━━━━━━━━━━━━━━━━\u001b[0m \u001b[32m661.2/661.2 kB\u001b[0m \u001b[31m10.2 MB/s\u001b[0m eta \u001b[36m0:00:00\u001b[0m\n",
      "\u001b[?25hDownloading anyio-4.5.2-py3-none-any.whl (89 kB)\n",
      "Downloading distro-1.9.0-py3-none-any.whl (20 kB)\n",
      "Using cached httpx-0.28.1-py3-none-any.whl (73 kB)\n",
      "Downloading httpcore-1.0.8-py3-none-any.whl (78 kB)\n",
      "Downloading jiter-0.9.0-cp38-cp38-macosx_11_0_arm64.whl (312 kB)\n",
      "Downloading pydantic-2.10.6-py3-none-any.whl (431 kB)\n",
      "Downloading pydantic_core-2.27.2-cp38-cp38-macosx_11_0_arm64.whl (1.8 MB)\n",
      "\u001b[2K   \u001b[90m━━━━━━━━━━━━━━━━━━━━━━━━━━━━━━━━━━━━━━━━\u001b[0m \u001b[32m1.8/1.8 MB\u001b[0m \u001b[31m10.5 MB/s\u001b[0m eta \u001b[36m0:00:00\u001b[0m\n",
      "\u001b[?25hUsing cached sniffio-1.3.1-py3-none-any.whl (10 kB)\n",
      "Downloading tqdm-4.67.1-py3-none-any.whl (78 kB)\n",
      "Downloading annotated_types-0.7.0-py3-none-any.whl (13 kB)\n",
      "Using cached exceptiongroup-1.2.2-py3-none-any.whl (16 kB)\n",
      "Using cached idna-3.10-py3-none-any.whl (70 kB)\n",
      "Downloading certifi-2025.1.31-py3-none-any.whl (166 kB)\n",
      "Using cached h11-0.14.0-py3-none-any.whl (58 kB)\n",
      "Installing collected packages: tqdm, sniffio, pydantic-core, jiter, idna, h11, exceptiongroup, distro, certifi, annotated-types, pydantic, httpcore, anyio, httpx, openai\n",
      "Successfully installed annotated-types-0.7.0 anyio-4.5.2 certifi-2025.1.31 distro-1.9.0 exceptiongroup-1.2.2 h11-0.14.0 httpcore-1.0.8 httpx-0.28.1 idna-3.10 jiter-0.9.0 openai-1.76.0 pydantic-2.10.6 pydantic-core-2.27.2 sniffio-1.3.1 tqdm-4.67.1\n"
     ]
    }
   ],
   "source": [
    "!pip install openai"
   ]
  },
  {
   "cell_type": "markdown",
   "metadata": {},
   "source": [
    "# Setting"
   ]
  },
  {
   "cell_type": "code",
   "execution_count": 4,
   "metadata": {},
   "outputs": [],
   "source": [
    "from dotenv import load_dotenv\n",
    "import os\n",
    "import openai\n",
    "\n",
    "load_dotenv()\n",
    "api_key = os.getenv(\"OPENAI_API_KEY\")\n",
    "\n",
    "client = openai.OpenAI(api_key=api_key)"
   ]
  },
  {
   "cell_type": "markdown",
   "metadata": {},
   "source": [
    "# Get Answer"
   ]
  },
  {
   "cell_type": "code",
   "execution_count": 5,
   "metadata": {},
   "outputs": [],
   "source": [
    "response = client.chat.completions.create(\n",
    "    model = \"gpt-4o\",\n",
    "    messages=[\n",
    "        {\"role\" : \"user\", \"content\" : \"대한민국의 수도는 어디야?\"}\n",
    "    ]\n",
    ")"
   ]
  },
  {
   "cell_type": "code",
   "execution_count": 9,
   "metadata": {},
   "outputs": [
    {
     "name": "stdout",
     "output_type": "stream",
     "text": [
      "대한민국의 수도는 서울입니다.\n"
     ]
    }
   ],
   "source": [
    "# The above code uses the OpenAI API to create a chat completion using the GPT-4o model.\n",
    "print(response.choices[0].message.content)"
   ]
  },
  {
   "cell_type": "markdown",
   "metadata": {},
   "source": [
    "# Assign a role"
   ]
  },
  {
   "cell_type": "markdown",
   "metadata": {},
   "source": [
    "```\n",
    "response = client.chat.completions.create(\n",
    "  model=\"gpt-4o\",\n",
    "  messages=[\n",
    "        {\"role\": \"system\", \"content\": \"<정해주고 싶은 역할>\"},\n",
    "        {\"role\": \"user\", \"content\": \"<작성하고 싶은 Prompt>\"}\n",
    "    ]\n",
    ")\n",
    "```"
   ]
  },
  {
   "cell_type": "code",
   "execution_count": 12,
   "metadata": {},
   "outputs": [],
   "source": [
    "response = client.chat.completions.create(\n",
    "    model = \"gpt-4o\",\n",
    "    messages=[\n",
    "        {\"role\" : \"system\", \"content\" : \"너는 친절하게 답변해주는 비서야. 답변은 반말로 해줘\"},\n",
    "        {\"role\" : \"user\", \"content\" : \"대한민국의 수도는 어디야? 그 수도의 유명한 관광지를 소개해줘\"}\n",
    "    ]\n",
    ")"
   ]
  },
  {
   "cell_type": "code",
   "execution_count": 13,
   "metadata": {},
   "outputs": [
    {
     "name": "stdout",
     "output_type": "stream",
     "text": [
      "대한민국의 수도는 서울이야. 서울에는 정말 유명한 관광지가 많아! 몇 가지 소개해줄게.\n",
      "\n",
      "1. **경복궁**: 조선 시대의 궁궐로, 역사와 문화를 느낄 수 있는 장소야. 왕궁수문장교대식도 구경할 수 있어.\n",
      "\n",
      "2. **북촌 한옥마을**: 전통 한옥들이 잘 보존되어 있는 곳으로, 한국의 전통 가옥을 경험할 수 있어.\n",
      "\n",
      "3. **남산서울타워(N서울타워)**: 서울의 멋진 경치를 한 눈에 내려다볼 수 있는 전망대야. 야경도 엄청 예뻐.\n",
      "\n",
      "4. **명동**: 쇼핑과 맛있는 음식으로 가득한 곳이라 외국 관광객들도 많이 찾아.\n",
      "\n",
      "5. **홍대 거리**: 젊음과 예술 감성이 넘치는 거리로, 거리공연도 많고 개성 있는 가게들이 많아.\n",
      "\n",
      "이 외에도 서울에는 다양한 문화와 역사를 체험할 수 있는 장소가 많이 있어. 방문하면 재미있을 거야!\n"
     ]
    }
   ],
   "source": [
    "print(response.choices[0].message.content)"
   ]
  },
  {
   "cell_type": "code",
   "execution_count": 14,
   "metadata": {},
   "outputs": [],
   "source": [
    "# Translate input!\n",
    "response = client.chat.completions.create(\n",
    "    model = \"gpt-4o\",\n",
    "    messages=[\n",
    "        {\"role\" : \"system\", \"content\" : \"사용자의 질문에 답변을 하지말고 한글 입력을 영어로 번역하십시오.\"},\n",
    "        {\"role\" : \"user\", \"content\" : \"대한민국의 수도는 어디야? 그 수도의 유명한 관광지를 소개해줘\"}\n",
    "    ]\n",
    ")"
   ]
  },
  {
   "cell_type": "code",
   "execution_count": 15,
   "metadata": {},
   "outputs": [
    {
     "name": "stdout",
     "output_type": "stream",
     "text": [
      "Where is the capital of South Korea? Introduce famous tourist attractions in that capital.\n"
     ]
    }
   ],
   "source": [
    "print(response.choices[0].message.content)"
   ]
  },
  {
   "cell_type": "markdown",
   "metadata": {},
   "source": [
    "# Reply including previous conversation"
   ]
  },
  {
   "cell_type": "code",
   "execution_count": 17,
   "metadata": {},
   "outputs": [],
   "source": [
    "response = client.chat.completions.create(\n",
    "    model = \"gpt-4o\",\n",
    "    messages=[\n",
    "        {\"role\" : \"user\", \"content\" : \"대한민국의 수도는 어디야? 그 수도의 유명한 관광지를 소개해줘\"},\n",
    "        {\"role\" : \"assistant\", \"content\" : \"대한민국의 수도는 서울이야. 서울의 유명한 관광지로는 경복궁, 남산타워, 명동, 인사동, 홍대 등이 있어.\"},\n",
    "        {\"role\" : \"user\", \"content\" : \"그곳들이 유명한 이유를 설명해줘.\"}\n",
    "    ]\n",
    ")"
   ]
  },
  {
   "cell_type": "code",
   "execution_count": 18,
   "metadata": {},
   "outputs": [
    {
     "name": "stdout",
     "output_type": "stream",
     "text": [
      "물론이야. 각각의 장소들은 고유한 매력과 역사적, 문화적 배경을 가지고 있어.\n",
      "\n",
      "1. **경복궁**: 경복궁은 조선 왕조의 주요 궁궐 중 하나로, 한국의 전통 건축미를 느낄 수 있는 곳이야. 1395년에 처음 지어졌으며, 화려한 전통 건축 양식과 함께 근정전, 경회루 같은 주요 건물이 있어 역사와 문화를 체험할 수 있어.\n",
      "\n",
      "2. **남산타워 (N서울타워)**: 남산의 정상에 위치한 서울의 상징적인 타워로, 서울의 전경을 한눈에 볼 수 있는 전망대가 있어. 특히 밤에는 아름다운 조명이 더해져 더욱 매력적이야. 커플들이 자물쇠를 걸어두는 '사랑의 자물쇠'라는 명소도 유명해.\n",
      "\n",
      "3. **명동**: 서울의 대표적인 쇼핑과 음식 거리로, 다양한 패션 매장, 화장품 브랜드, 그리고 길거리 음식들이 가득해. 외국인 관광객들에게 인기가 많으며, 한국의 현대적이고 활기찬 도시 문화를 경험할 수 있어.\n",
      "\n",
      "4. **인사동**: 전통적인 한국 문화를 체험할 수 있는 거리로, 골동품 가게, 전통 공예품 상점, 찻집 등이 많아. 한국의 과거와 현재가 조화를 이루는 곳으로, 전통을 사랑하는 사람들에게 적합해.\n",
      "\n",
      "5. **홍대**: 젊음과 활기가 넘치는 문화와 예술의 거리야. 다양한 음악 공연, 클럽, 카페, 예술 갤러리 등이 있어 창의적이고 자유로운 분위기를 느낄 수 있어. 거리 공연이나 다양한 페스티벌도 자주 열려 젊은 층에게 특히 인기야.\n",
      "\n",
      "이처럼 서울은 다양한 매력적인 장소가 많아, 각기 다른 경험을 제공하는 관광지들이 자리하고 있지.\n"
     ]
    }
   ],
   "source": [
    "print(response.choices[0].message.content)"
   ]
  },
  {
   "cell_type": "markdown",
   "metadata": {},
   "source": [
    "# Make Simple AI Service"
   ]
  },
  {
   "cell_type": "markdown",
   "metadata": {},
   "source": [
    "### 1) News article analysis"
   ]
  },
  {
   "cell_type": "code",
   "execution_count": 19,
   "metadata": {},
   "outputs": [],
   "source": [
    "def return_answer(input_text=''):\n",
    "    system_prompt = \"\"\"특정 문서가 입력되면 다음과 같은 형태로 문서를 분석하십시오.\n",
    "\n",
    "1. 주어진 입력:에 대해서 반드시 주제:, 요약:, 가능한 질문: 이 세가지를 순차적으로 작성해야 합니다.\n",
    "2. 주제:는 입력 문서의 주제를 한 줄로 요약합니다.\n",
    "3. 요약:은 입력 문서를 5줄로 요약합니다.\n",
    "4. 가능한 질문:은 입력 문서로부부터 사람들이 할 수 있는 질문 세 가지를 파이썬 리스트 형태로 작성합니다.\n",
    "5. 가능한 질문:이 반드시 [\"질문1\", \"질문2\", \"질문3\"]과 같이 파이썬 리스트 형태로 작성되어야 하는 점에 유의하십시오.\n",
    "\n",
    "이제 시작합니다.\"\"\"\n",
    "\n",
    "    user_content = \"입력: \" + input_text + '\\n답변:'\n",
    "    \n",
    "    print('최종 유저 프롬프트')\n",
    "    print('==' * 50)\n",
    "    print(user_content)\n",
    "    print('==' * 50)\n",
    "    \n",
    "    response = client.chat.completions.create(\n",
    "        model = \"gpt-4o\",\n",
    "        messages=[\n",
    "            {\"role\" : \"system\", \"content\" : system_prompt},\n",
    "            {\"role\" : \"user\", \"content\" : user_content}\n",
    "        ]\n",
    "    )\n",
    "    \n",
    "    return response.choices[0].message.content"
   ]
  },
  {
   "cell_type": "code",
   "execution_count": 20,
   "metadata": {},
   "outputs": [],
   "source": [
    "test = '''새처럼 움직이는 항공 로봇 '레이븐'.\n",
    "\n",
    "스위스 로잔 연방 공대(EPFL) 신원동 박사팀이 개발했는데요.\n",
    "\n",
    "연구팀은 새의 엉덩이와 발목, 발을 참고해 뒷다리를 만들었습니다.\n",
    "\n",
    "실제 새처럼 땅에서 걷고, 틈새를 건너뛰고, 위로 뛰어오릅니다.\n",
    "\n",
    "껑충 뛰면서 날아오르는 이 기능이 핵심인데요.\n",
    "\n",
    "기존 고정익 항공기처럼 지상을 달리지 않고 제자리에서 날아오릅니다.\n",
    "\n",
    "연구팀은 레이븐의 점프 이륙이 점프하지 않고 날아오를 때보다 에너지 효율이 더 높다고 설명했는데요.\n",
    "\n",
    "또 기존 고정익 항공기에 이 기능을 도입하면 복잡한 지형에서도 효율적으로 쓸 수 있을 거라고 덧붙였습니다.\n",
    "\n",
    "#새 #로봇 #항공 #공대 #스위스 #신원동 #박사 #점프'''"
   ]
  },
  {
   "cell_type": "code",
   "execution_count": 21,
   "metadata": {},
   "outputs": [
    {
     "name": "stdout",
     "output_type": "stream",
     "text": [
      "최종 유저 프롬프트\n",
      "====================================================================================================\n",
      "입력: 새처럼 움직이는 항공 로봇 '레이븐'.\n",
      "\n",
      "스위스 로잔 연방 공대(EPFL) 신원동 박사팀이 개발했는데요.\n",
      "\n",
      "연구팀은 새의 엉덩이와 발목, 발을 참고해 뒷다리를 만들었습니다.\n",
      "\n",
      "실제 새처럼 땅에서 걷고, 틈새를 건너뛰고, 위로 뛰어오릅니다.\n",
      "\n",
      "껑충 뛰면서 날아오르는 이 기능이 핵심인데요.\n",
      "\n",
      "기존 고정익 항공기처럼 지상을 달리지 않고 제자리에서 날아오릅니다.\n",
      "\n",
      "연구팀은 레이븐의 점프 이륙이 점프하지 않고 날아오를 때보다 에너지 효율이 더 높다고 설명했는데요.\n",
      "\n",
      "또 기존 고정익 항공기에 이 기능을 도입하면 복잡한 지형에서도 효율적으로 쓸 수 있을 거라고 덧붙였습니다.\n",
      "\n",
      "#새 #로봇 #항공 #공대 #스위스 #신원동 #박사 #점프\n",
      "답변:\n",
      "====================================================================================================\n",
      "주제: 스위스 로잔 연방 공대에서 새처럼 움직이는 항공 로봇 '레이븐'을 개발.\n",
      "\n",
      "요약: 스위스 로잔 연방 공대의 신원동 박사팀이 새의 엉덩이와 발목, 발 구조를 모방하여 레이븐이라는 항공 로봇을 개발했습니다. 레이븐은 실제 새처럼 땅에서 걷고, 틈새를 넘고, 위로 뛰어오르는 기능을 갖추고 있습니다. 껑충 뛰면서 제자리에서 날아오르는 기능이 중요한 특징이며, 이는 기존 고정익 항공기보다 에너지 효율이 높다고 합니다. 연구팀은 이러한 기능이 복잡한 지형에서도 효과적으로 사용할 수 있다고 강조했습니다. 레이븐의 기술이 항공기 설계에 새로운 가능성을 열어줄 것으로 기대됩니다.\n",
      "\n",
      "가능한 질문: [\"레이븐 로봇의 주요 설계 영감은 무엇인가요?\", \"레이븐의 점프 이륙이 기존 항공기와 비교할 때 어떤 이점이 있나요?\", \"레이븐의 기술이 어떤 항공 환경에서 유용할 것으로 예상되나요?\"]\n"
     ]
    }
   ],
   "source": [
    "result = return_answer(test)\n",
    "print(result)"
   ]
  },
  {
   "cell_type": "markdown",
   "metadata": {},
   "source": [
    "### 2) Keyword Abstract"
   ]
  },
  {
   "cell_type": "code",
   "execution_count": 22,
   "metadata": {},
   "outputs": [],
   "source": [
    "def return_answer(input_text=''):\n",
    "    system_prompt = \"\"\"You are an expert at extracting keywords from a given sentence. Extract keywords from a given sentence that are key to the context.\n",
    "\n",
    "    [Example]\n",
    "    input: '외신에 따르면 중국 이카이글로벌 보도를 인용해 모더나가 중국 전용 mRNA 백신 개발을 위해 중국에 최대 10억달러(약 1조3017억원)를 투자하기로 했다고 보도했다.'\n",
    "    keyword: ['모더나', 'mRNA', '1조3017억원']\n",
    "\n",
    "    Now the sentence you want to extract keywords from.\n",
    "    The output format must be a list in Python.\n",
    "    \"\"\"\n",
    "    \n",
    "    user_content = \"input: \" + input_text + '\\nkeyword: '\n",
    "    \n",
    "    print('최종 유저 프롬프트')\n",
    "    print('==' * 50)\n",
    "    print(user_content)\n",
    "    print('==' * 50)\n",
    "    response = client.chat.completions.create(\n",
    "        model = \"gpt-4o\",\n",
    "        messages=[\n",
    "            {\"role\" : \"system\", \"content\" : system_prompt},\n",
    "            {\"role\" : \"user\", \"content\" : user_content}\n",
    "        ],\n",
    "        temperature=0\n",
    "    )\n",
    "    return response.choices[0].message.content"
   ]
  },
  {
   "cell_type": "code",
   "execution_count": 23,
   "metadata": {},
   "outputs": [],
   "source": [
    "text = '''3일 업계에 따르면 서울 신라호텔의 더 파크뷰는 12월 1∼20일 저녁 가격을 19만5000원으로, 21∼31일 저녁 가격을 21만 5000원으로 각각 인상한다. 평소 평일·주말 저녁 가격이 18만5000원이던 것을 고려하면 각각 1만원과 3만원 올랐다. 가격 인상에도 불구하고 더 파크뷰의 12월 주말 예약은 대부분 찼고 12월 평일 예약 역시 빠르게 마감되고 있다고 신라호텔 측은 전했다.\n",
    "\n",
    "롯데호텔 서울의 뷔페 라세느는 12월 평일·주말 저녁 가격을 19만원으로 기존 대비 1만원 올린다. 크리스마스 연휴 때인 23∼25일과 연말 30∼31일 저녁 가격은 20만5000원이다. 롯데호텔 서울의 라세느도 현재 크리스마스 이브인 12월 24일과 크리스마스 당일인 12월 25일 예약은 대부분 마감됐다.\n",
    "\n",
    "워커힐 호텔앤리조트는 그랜드 워커힐에서 운영하던 더뷔페를 비스타 워커힐로 확장 이전해 이날 가격을 올렸다. 평일·주말 저녁 가격은 15만9000원에서 18만9000원으로 3만원 인상됐다. 다만 워커힐은 이번 가격 책정에 인플레이션(물가 상승)을 미리 반영한 만큼 연말을 앞두고 추가 인상을 단행하지 않을 계획이라고 밝혔다.\n",
    "\n",
    "그랜드 인터컨티넨탈 서울 파르나스와 인터컨티넨탈 서울 코엑스도 다음주께 인상된 가격을 공지할 계획이다.'''"
   ]
  },
  {
   "cell_type": "code",
   "execution_count": 24,
   "metadata": {},
   "outputs": [
    {
     "name": "stdout",
     "output_type": "stream",
     "text": [
      "최종 유저 프롬프트\n",
      "====================================================================================================\n",
      "input: 3일 업계에 따르면 서울 신라호텔의 더 파크뷰는 12월 1∼20일 저녁 가격을 19만5000원으로, 21∼31일 저녁 가격을 21만 5000원으로 각각 인상한다. 평소 평일·주말 저녁 가격이 18만5000원이던 것을 고려하면 각각 1만원과 3만원 올랐다. 가격 인상에도 불구하고 더 파크뷰의 12월 주말 예약은 대부분 찼고 12월 평일 예약 역시 빠르게 마감되고 있다고 신라호텔 측은 전했다.\n",
      "\n",
      "롯데호텔 서울의 뷔페 라세느는 12월 평일·주말 저녁 가격을 19만원으로 기존 대비 1만원 올린다. 크리스마스 연휴 때인 23∼25일과 연말 30∼31일 저녁 가격은 20만5000원이다. 롯데호텔 서울의 라세느도 현재 크리스마스 이브인 12월 24일과 크리스마스 당일인 12월 25일 예약은 대부분 마감됐다.\n",
      "\n",
      "워커힐 호텔앤리조트는 그랜드 워커힐에서 운영하던 더뷔페를 비스타 워커힐로 확장 이전해 이날 가격을 올렸다. 평일·주말 저녁 가격은 15만9000원에서 18만9000원으로 3만원 인상됐다. 다만 워커힐은 이번 가격 책정에 인플레이션(물가 상승)을 미리 반영한 만큼 연말을 앞두고 추가 인상을 단행하지 않을 계획이라고 밝혔다.\n",
      "\n",
      "그랜드 인터컨티넨탈 서울 파르나스와 인터컨티넨탈 서울 코엑스도 다음주께 인상된 가격을 공지할 계획이다.\n",
      "keyword: \n",
      "====================================================================================================\n"
     ]
    },
    {
     "data": {
      "text/plain": [
       "\"['서울 신라호텔', '더 파크뷰', '19만5000원', '21만5000원', '롯데호텔 서울', '라세느', '19만원', '20만5000원', '워커힐 호텔앤리조트', '더뷔페', '비스타 워커힐', '18만9000원', '인플레이션', '그랜드 인터컨티넨탈 서울 파르나스', '인터컨티넨탈 서울 코엑스']\""
      ]
     },
     "execution_count": 24,
     "metadata": {},
     "output_type": "execute_result"
    }
   ],
   "source": [
    "return_answer(input_text=text)"
   ]
  },
  {
   "cell_type": "markdown",
   "metadata": {},
   "source": [
    "### 3) Abstract Title"
   ]
  },
  {
   "cell_type": "code",
   "execution_count": 25,
   "metadata": {},
   "outputs": [],
   "source": [
    "def return_answer(text):\n",
    "    prompt = '''주어진 텍스트로부터 적절한 제목을 만들어줘. 제목은 간결하고 너무 길어서는 안 돼.'''\n",
    "\n",
    "    response = client.chat.completions.create(\n",
    "    model=\"gpt-4o\",\n",
    "    messages=[\n",
    "        {\"role\": \"system\", \"content\": prompt},\n",
    "          {\"role\": \"user\", \"content\": text}\n",
    "      ]\n",
    "    )\n",
    "    return response.choices[0].message.content"
   ]
  },
  {
   "cell_type": "code",
   "execution_count": 26,
   "metadata": {},
   "outputs": [
    {
     "data": {
      "text/plain": [
       "'금감원장 해외 출장 논란'"
      ]
     },
     "execution_count": 26,
     "metadata": {},
     "output_type": "execute_result"
    }
   ],
   "source": [
    "input_text = '''지난 11일 국회 정무위원회 전체 회의에선 이복현 금융감독원장의 해외 출장길이 도마 에 올랐다. 이 원장이 지난 8일부터 닷새간 동남아 싱가포르·인도네시아·태국 등 주요 3개국 출장을 떠나 이날 회의에 참석하지 못했기 때문이다. 금감원에선 이준수·함용일 부원장이 전체 회의에 대참했다.\n",
    "\n",
    "이 원장의 이번 출장은 국내 금융사의 투자 유치와 해외진출 확대를 지원하기 위해서다. 이 출장에는 윤종규 KB금융그룹 회장, 함영주 하나금융그룹 회장을 비롯해 최현만 미래에셋증권 회장, 정일문 한국투자증권 사장, 홍원학 삼성화재 사장, 원종규 코리안리 사장 등 6개 금융사 최고경영자(CEO)도 동행했다.\n",
    "\n",
    "야당의 지적처럼 금융권 일각에선 이번 출장을 두고 다소 의아하다는 시각이 있었다. 금감원이 해외에서 IR 행사를 하긴 하지만, 금융위원장이 아니라 금감원장이 직접 나간 적은 드물어서다. 금감원도 이를 의식한 듯 관련 보도자료에 ‘이번 금감원장의 해외 IR 참여는 몇몇 금융사 회장들이 지난해부터 요청해서 이뤄진 것’이라는 해명을 덧붙이기도 했다.'''\n",
    "\n",
    "return_answer(input_text)"
   ]
  },
  {
   "cell_type": "markdown",
   "metadata": {},
   "source": [
    "### 4) Sentiment Analysis"
   ]
  },
  {
   "cell_type": "code",
   "execution_count": 27,
   "metadata": {},
   "outputs": [],
   "source": [
    "def return_answer(text):\n",
    "    prompt = '''주어진 텍스트가 긍정인지 중립인지 부정인지 예측하시오. 당신의 답변은 오로지 [positive, negative, neutral] 셋 중 하나여야만 합니다.\n",
    "    ex) 'SK하이닉스가 2분기 실적에서 역대 최고를 기록하였다' => \"positive\"'''\n",
    "\n",
    "    response = client.chat.completions.create(\n",
    "    model=\"gpt-4o\",\n",
    "    messages=[\n",
    "        {\"role\": \"system\", \"content\": prompt},\n",
    "          {\"role\": \"user\", \"content\": text + \" => \"}\n",
    "      ]\n",
    "    )\n",
    "    return response.choices[0].message.content"
   ]
  },
  {
   "cell_type": "code",
   "execution_count": 28,
   "metadata": {},
   "outputs": [
    {
     "data": {
      "text/plain": [
       "'\"positive\"'"
      ]
     },
     "execution_count": 28,
     "metadata": {},
     "output_type": "execute_result"
    }
   ],
   "source": [
    "return_answer('씨씨에스 로고 씨씨에스 주가가 상한가다. 3일 기준 씨씨에스는 29.84%(825원) 상승한 3590원에 거래를 마쳤다. 상온 초전도체 이슈가 부각되면서 주가가 연일 영향을 받는 모양새다.')"
   ]
  }
 ],
 "metadata": {
  "kernelspec": {
   "display_name": "llm_study",
   "language": "python",
   "name": "python3"
  },
  "language_info": {
   "codemirror_mode": {
    "name": "ipython",
    "version": 3
   },
   "file_extension": ".py",
   "mimetype": "text/x-python",
   "name": "python",
   "nbconvert_exporter": "python",
   "pygments_lexer": "ipython3",
   "version": "3.8.20"
  }
 },
 "nbformat": 4,
 "nbformat_minor": 2
}
