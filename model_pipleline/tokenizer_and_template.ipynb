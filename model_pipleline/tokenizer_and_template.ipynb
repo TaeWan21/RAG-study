{
 "cells": [
  {
   "cell_type": "markdown",
   "metadata": {},
   "source": [
    "## 라마 3 토크나이저"
   ]
  },
  {
   "cell_type": "markdown",
   "metadata": {},
   "source": [
    "공개된 LLM을 불러올 때는 transformers 패키지를 이용함."
   ]
  },
  {
   "cell_type": "code",
   "execution_count": 1,
   "metadata": {},
   "outputs": [
    {
     "name": "stderr",
     "output_type": "stream",
     "text": [
      "/opt/anaconda3/envs/llm_study/lib/python3.8/site-packages/tqdm/auto.py:21: TqdmWarning: IProgress not found. Please update jupyter and ipywidgets. See https://ipywidgets.readthedocs.io/en/stable/user_install.html\n",
      "  from .autonotebook import tqdm as notebook_tqdm\n",
      "None of PyTorch, TensorFlow >= 2.0, or Flax have been found. Models won't be available and only tokenizers, configuration and file/data utilities can be used.\n"
     ]
    }
   ],
   "source": [
    "from transformers import AutoTokenizer"
   ]
  },
  {
   "cell_type": "markdown",
   "metadata": {},
   "source": [
    "AutoTokenizer.from_pretrained(\"모델이름\")을 이용하여 토크나이저를 불러옴.\n",
    "\n",
    "https://huggingface.co/allganize/Llama-3-Alpha-Ko-8B-Instruct"
   ]
  },
  {
   "cell_type": "code",
   "execution_count": 2,
   "metadata": {},
   "outputs": [],
   "source": [
    "model_id = \"allganize/Llama-3-Alpha-Ko-8B-Instruct\""
   ]
  },
  {
   "cell_type": "code",
   "execution_count": 3,
   "metadata": {},
   "outputs": [],
   "source": [
    "tokenizer = AutoTokenizer.from_pretrained(model_id)"
   ]
  },
  {
   "cell_type": "markdown",
   "metadata": {},
   "source": [
    "tokenizer 는 인코딩과 디코딩을 해준다."
   ]
  },
  {
   "cell_type": "code",
   "execution_count": 4,
   "metadata": {},
   "outputs": [
    {
     "data": {
      "text/plain": [
       "[128000, 101193, 124409, 11, 64857, 115072, 39331, 13]"
      ]
     },
     "execution_count": 4,
     "metadata": {},
     "output_type": "execute_result"
    }
   ],
   "source": [
    "tokenizer.encode('안녕하세요, 반갑습니다.')"
   ]
  },
  {
   "cell_type": "code",
   "execution_count": 5,
   "metadata": {},
   "outputs": [
    {
     "data": {
      "text/plain": [
       "'<|begin_of_text|>안녕하세요, 반갑습니다.'"
      ]
     },
     "execution_count": 5,
     "metadata": {},
     "output_type": "execute_result"
    }
   ],
   "source": [
    "tokenizer.decode([128000, 101193, 124409, 11, 64857, 115072, 39331, 13])"
   ]
  },
  {
   "cell_type": "markdown",
   "metadata": {},
   "source": [
    "# Template"
   ]
  },
  {
   "cell_type": "markdown",
   "metadata": {},
   "source": [
    "모델이 학습되었을 당시의 모델의 입력으로 사용된 형식"
   ]
  },
  {
   "cell_type": "code",
   "execution_count": 15,
   "metadata": {},
   "outputs": [],
   "source": [
    "messages = [\n",
    "    {\"role\": \"system\", \"content\": \"당신은 친절한 AI 도우미 입니다.\"},\n",
    "    {\"role\": \"user\", \"content\": \"은행의 기준 금리에 대해서 설명해줘\"}\n",
    "]"
   ]
  },
  {
   "cell_type": "markdown",
   "metadata": {},
   "source": [
    "'tokenizer.apply_chat_template' 를 통해서 학습 시의 형식을 몰라도 바꾸어 준다."
   ]
  },
  {
   "cell_type": "code",
   "execution_count": 16,
   "metadata": {},
   "outputs": [
    {
     "name": "stdout",
     "output_type": "stream",
     "text": [
      "<|begin_of_text|><|start_header_id|>system<|end_header_id|>\n",
      "\n",
      "당신은 친절한 AI 도우미 입니다.<|eot_id|><|start_header_id|>user<|end_header_id|>\n",
      "\n",
      "은행의 기준 금리에 대해서 설명해줘<|eot_id|>\n"
     ]
    }
   ],
   "source": [
    "template_messages = tokenizer.apply_chat_template(messages, tokenize=False)\n",
    "print(template_messages)"
   ]
  },
  {
   "cell_type": "code",
   "execution_count": 17,
   "metadata": {},
   "outputs": [
    {
     "name": "stdout",
     "output_type": "stream",
     "text": [
      "[128000, 128006, 9125, 128007, 271, 65895, 83628, 34804, 108280, 104834, 24486, 15592, 101703, 41381, 57139, 119519, 13, 128009, 128006, 882, 128007, 271, 34804, 101066, 21028, 111902, 104193, 111833, 122115, 114942, 34983, 59269, 246, 128009]\n"
     ]
    }
   ],
   "source": [
    "template_messages = tokenizer.apply_chat_template(messages, tokenize=True)\n",
    "print(template_messages)"
   ]
  },
  {
   "cell_type": "code",
   "execution_count": 18,
   "metadata": {},
   "outputs": [
    {
     "name": "stdout",
     "output_type": "stream",
     "text": [
      "템플릿 적용 및 정수 인코딩 후:\n",
      " [128000, 128006, 9125, 128007, 271, 65895, 83628, 34804, 108280, 104834, 24486, 15592, 101703, 41381, 57139, 119519, 13, 128009, 128006, 882, 128007, 271, 34804, 101066, 21028, 111902, 104193, 111833, 122115, 114942, 34983, 59269, 246, 128009]\n",
      "--------------------------------------------------------------------------------------------------------------------------------------------------------------------------------------------------------\n",
      "템플릿 적용 및 정수 인코딩 결과를 복원:\n",
      " <|begin_of_text|><|start_header_id|>system<|end_header_id|>\n",
      "\n",
      "당신은 친절한 AI 도우미 입니다.<|eot_id|><|start_header_id|>user<|end_header_id|>\n",
      "\n",
      "은행의 기준 금리에 대해서 설명해줘<|eot_id|>\n"
     ]
    }
   ],
   "source": [
    "encodeds = tokenizer.apply_chat_template(messages)\n",
    "print('템플릿 적용 및 정수 인코딩 후:\\n', encodeds)\n",
    "print('--' * 100)\n",
    "print('템플릿 적용 및 정수 인코딩 결과를 복원:\\n',tokenizer.decode((encodeds)))"
   ]
  },
  {
   "cell_type": "markdown",
   "metadata": {},
   "source": [
    "# 어시스턴트 시작점"
   ]
  },
  {
   "cell_type": "markdown",
   "metadata": {},
   "source": [
    "학습 입력에 따라서 답변 생성 직전까지의 토큰까지 넣어줘야 답변을 생성하게 된다."
   ]
  },
  {
   "cell_type": "code",
   "execution_count": 19,
   "metadata": {},
   "outputs": [
    {
     "name": "stdout",
     "output_type": "stream",
     "text": [
      "[128000, 128006, 9125, 128007, 271, 65895, 83628, 34804, 108280, 104834, 24486, 15592, 101703, 41381, 57139, 119519, 13, 128009, 128006, 882, 128007, 271, 34804, 101066, 21028, 111902, 104193, 111833, 122115, 114942, 34983, 59269, 246, 128009, 128006, 78191, 128007, 271]\n",
      "템플릿 적용 및 정수 인코딩 결과를 복원:\n",
      " <|begin_of_text|><|start_header_id|>system<|end_header_id|>\n",
      "\n",
      "당신은 친절한 AI 도우미 입니다.<|eot_id|><|start_header_id|>user<|end_header_id|>\n",
      "\n",
      "은행의 기준 금리에 대해서 설명해줘<|eot_id|><|start_header_id|>assistant<|end_header_id|>\n",
      "\n",
      "\n"
     ]
    }
   ],
   "source": [
    "encodeds = tokenizer.apply_chat_template(messages, add_generation_prompt=True)\n",
    "print(encodeds)\n",
    "print('템플릿 적용 및 정수 인코딩 결과를 복원:\\n',tokenizer.decode((encodeds)))"
   ]
  },
  {
   "cell_type": "markdown",
   "metadata": {},
   "source": [
    "# Qwen2 템플릿 확인"
   ]
  },
  {
   "cell_type": "code",
   "execution_count": 20,
   "metadata": {},
   "outputs": [
    {
     "name": "stderr",
     "output_type": "stream",
     "text": [
      "huggingface/tokenizers: The current process just got forked, after parallelism has already been used. Disabling parallelism to avoid deadlocks...\n",
      "To disable this warning, you can either:\n",
      "\t- Avoid using `tokenizers` before the fork if possible\n",
      "\t- Explicitly set the environment variable TOKENIZERS_PARALLELISM=(true | false)\n"
     ]
    }
   ],
   "source": [
    "model_id = \"Qwen/Qwen2-7B-Instruct\"\n",
    "qwen_tokenizer = AutoTokenizer.from_pretrained(model_id)"
   ]
  },
  {
   "cell_type": "code",
   "execution_count": null,
   "metadata": {},
   "outputs": [],
   "source": [
    "device = \"cuda:0\"\n",
    "messages = [\n",
    "    {\"role\": \"system\", \"content\": \"당신은 패스트캠퍼스 챗봇 패캠이입니다. 묻는 말에 친절하고 정확하게 답변하세요.\"},\n",
    "    {\"role\": \"user\", \"content\": \"당신이 누군지 설명해주십시오\"}\n",
    "]\n",
    "\n",
    "encodeds = qwen_tokenizer.apply_chat_template(messages, return_tensors=\"pt\", add_generation_prompt=True)\n",
    "model_inputs = encodeds.to(device)"
   ]
  },
  {
   "cell_type": "code",
   "execution_count": null,
   "metadata": {},
   "outputs": [],
   "source": [
    "print(qwen_tokenizer.decode(model_inputs[0]))"
   ]
  }
 ],
 "metadata": {
  "kernelspec": {
   "display_name": "llm_study",
   "language": "python",
   "name": "python3"
  },
  "language_info": {
   "codemirror_mode": {
    "name": "ipython",
    "version": 3
   },
   "file_extension": ".py",
   "mimetype": "text/x-python",
   "name": "python",
   "nbconvert_exporter": "python",
   "pygments_lexer": "ipython3",
   "version": "3.8.20"
  }
 },
 "nbformat": 4,
 "nbformat_minor": 2
}
