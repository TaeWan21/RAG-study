{
  "nbformat": 4,
  "nbformat_minor": 0,
  "metadata": {
    "colab": {
      "provenance": []
    },
    "kernelspec": {
      "name": "python3",
      "display_name": "Python 3"
    },
    "language_info": {
      "name": "python"
    }
  },
  "cells": [
    {
      "cell_type": "markdown",
      "source": [
        "ReAct(Reasoning + Acting)은 프린스턴 대학교 학자들이 구글 연구원들과 협력하여 개발한 프롬프트 엔지니어링 전략입니다.  \n",
        "\n",
        "이 전략은 LLMs(대형 언어 모델)이 인간이 현실에서 행동하는 방식처럼 먼저 문제를 어떻게 풀지 `생각`하고, `행동`을 하는 것을 흉내내는 전략입니다.  \n",
        "\n",
        "이때 ReAct는 다수의 `외부 도구`를 사용할 수 있음을 전제하며, `외부 도구`의 결과로부터 `생각`과 `행동`을 다시 진행할 수 있습니다.  \n",
        "\n",
        "이러한 상호작용은 모델이 질문을 하거나 작업을 수행하여 더 많은 정보를 얻고 상황을 더 잘 이해할 수 있도록 합니다. 예를 들어, 여러 단계를 거쳐야만 해결할 수 있는 문제가 주어져도, ReAct는 외부 도구를 호출하는 여러 검색 작업을 수행하여 문제를 해결합니다.  \n",
        "\n",
        "LLM이 `생각`과 `행동`을 번갈아 가며 수행하도록 함으로써, ReAct는 LLM을 실제 행동하는 `에이전트`로 변환하여 인간과 유사한 방식으로 작업을 완료할 수 있게 합니다."
      ],
      "metadata": {
        "id": "y4OSFoB3Z3AB"
      }
    },
    {
      "cell_type": "markdown",
      "source": [
        "ReACT 에이전트는  \n",
        "\n",
        "- `생각`, `행동`, `행동 입력`, `검색 결과` 를 반복하여 문제를 해결합니다.  \n",
        "- 문제를 해결하기 위한 모든 `검색 결과`가 취합되면 마지막으로 `최종 답`을 작성합니다.  \n",
        "- `생각`: 현 시점에서 어떤 도구에 어떤 검색어를 넣어야 할 지 고민하는 단계입니다. 문제를 풀기 위해서 풀이 과정을 기재하므로 CoT 프롬프팅 전략에 해당됩니다.\n",
        "- `행동`: 실제로 어떤 도구를 사용할 지 결정하는 단계입니다.  \n",
        "- `행동 입력`: 선택한 도구에 넣을 검색어를 결정하는 단계입니다.  \n",
        "- `검색 결과`: 도구로부터 검색 결과를 얻습니다. 이 결과를 통해서 다음 `생각`이 전개됩니다."
      ],
      "metadata": {
        "id": "H1jC9xckax4y"
      }
    },
    {
      "cell_type": "code",
      "execution_count": null,
      "metadata": {
        "colab": {
          "base_uri": "https://localhost:8080/"
        },
        "id": "Bp3T1zqxQk0Q",
        "outputId": "9677665a-309e-4977-dd22-cd1cae2e237a"
      },
      "outputs": [
        {
          "output_type": "stream",
          "name": "stdout",
          "text": [
            "Requirement already satisfied: langchain in /usr/local/lib/python3.11/dist-packages (0.3.19)\n",
            "Requirement already satisfied: langchain_openai in /usr/local/lib/python3.11/dist-packages (0.3.7)\n",
            "Requirement already satisfied: tiktoken in /usr/local/lib/python3.11/dist-packages (0.9.0)\n",
            "Requirement already satisfied: chromadb in /usr/local/lib/python3.11/dist-packages (0.6.3)\n",
            "Requirement already satisfied: pymupdf in /usr/local/lib/python3.11/dist-packages (1.25.3)\n",
            "Requirement already satisfied: openai in /usr/local/lib/python3.11/dist-packages (1.61.1)\n",
            "Requirement already satisfied: langchain-community in /usr/local/lib/python3.11/dist-packages (0.3.18)\n",
            "Requirement already satisfied: langchain-core<1.0.0,>=0.3.35 in /usr/local/lib/python3.11/dist-packages (from langchain) (0.3.40)\n",
            "Requirement already satisfied: langchain-text-splitters<1.0.0,>=0.3.6 in /usr/local/lib/python3.11/dist-packages (from langchain) (0.3.6)\n",
            "Requirement already satisfied: langsmith<0.4,>=0.1.17 in /usr/local/lib/python3.11/dist-packages (from langchain) (0.3.9)\n",
            "Requirement already satisfied: pydantic<3.0.0,>=2.7.4 in /usr/local/lib/python3.11/dist-packages (from langchain) (2.10.6)\n",
            "Requirement already satisfied: SQLAlchemy<3,>=1.4 in /usr/local/lib/python3.11/dist-packages (from langchain) (2.0.38)\n",
            "Requirement already satisfied: requests<3,>=2 in /usr/local/lib/python3.11/dist-packages (from langchain) (2.32.3)\n",
            "Requirement already satisfied: PyYAML>=5.3 in /usr/local/lib/python3.11/dist-packages (from langchain) (6.0.2)\n",
            "Requirement already satisfied: aiohttp<4.0.0,>=3.8.3 in /usr/local/lib/python3.11/dist-packages (from langchain) (3.11.12)\n",
            "Requirement already satisfied: tenacity!=8.4.0,<10,>=8.1.0 in /usr/local/lib/python3.11/dist-packages (from langchain) (9.0.0)\n",
            "Requirement already satisfied: numpy<2,>=1.26.4 in /usr/local/lib/python3.11/dist-packages (from langchain) (1.26.4)\n",
            "Requirement already satisfied: regex>=2022.1.18 in /usr/local/lib/python3.11/dist-packages (from tiktoken) (2024.11.6)\n",
            "Requirement already satisfied: build>=1.0.3 in /usr/local/lib/python3.11/dist-packages (from chromadb) (1.2.2.post1)\n",
            "Requirement already satisfied: chroma-hnswlib==0.7.6 in /usr/local/lib/python3.11/dist-packages (from chromadb) (0.7.6)\n",
            "Requirement already satisfied: fastapi>=0.95.2 in /usr/local/lib/python3.11/dist-packages (from chromadb) (0.115.9)\n",
            "Requirement already satisfied: uvicorn>=0.18.3 in /usr/local/lib/python3.11/dist-packages (from uvicorn[standard]>=0.18.3->chromadb) (0.34.0)\n",
            "Requirement already satisfied: posthog>=2.4.0 in /usr/local/lib/python3.11/dist-packages (from chromadb) (3.17.0)\n",
            "Requirement already satisfied: typing_extensions>=4.5.0 in /usr/local/lib/python3.11/dist-packages (from chromadb) (4.12.2)\n",
            "Requirement already satisfied: onnxruntime>=1.14.1 in /usr/local/lib/python3.11/dist-packages (from chromadb) (1.20.1)\n",
            "Requirement already satisfied: opentelemetry-api>=1.2.0 in /usr/local/lib/python3.11/dist-packages (from chromadb) (1.30.0)\n",
            "Requirement already satisfied: opentelemetry-exporter-otlp-proto-grpc>=1.2.0 in /usr/local/lib/python3.11/dist-packages (from chromadb) (1.30.0)\n",
            "Requirement already satisfied: opentelemetry-instrumentation-fastapi>=0.41b0 in /usr/local/lib/python3.11/dist-packages (from chromadb) (0.51b0)\n",
            "Requirement already satisfied: opentelemetry-sdk>=1.2.0 in /usr/local/lib/python3.11/dist-packages (from chromadb) (1.30.0)\n",
            "Requirement already satisfied: tokenizers>=0.13.2 in /usr/local/lib/python3.11/dist-packages (from chromadb) (0.21.0)\n",
            "Requirement already satisfied: pypika>=0.48.9 in /usr/local/lib/python3.11/dist-packages (from chromadb) (0.48.9)\n",
            "Requirement already satisfied: tqdm>=4.65.0 in /usr/local/lib/python3.11/dist-packages (from chromadb) (4.67.1)\n",
            "Requirement already satisfied: overrides>=7.3.1 in /usr/local/lib/python3.11/dist-packages (from chromadb) (7.7.0)\n",
            "Requirement already satisfied: importlib-resources in /usr/local/lib/python3.11/dist-packages (from chromadb) (6.5.2)\n",
            "Requirement already satisfied: grpcio>=1.58.0 in /usr/local/lib/python3.11/dist-packages (from chromadb) (1.70.0)\n",
            "Requirement already satisfied: bcrypt>=4.0.1 in /usr/local/lib/python3.11/dist-packages (from chromadb) (4.3.0)\n",
            "Requirement already satisfied: typer>=0.9.0 in /usr/local/lib/python3.11/dist-packages (from chromadb) (0.15.1)\n",
            "Requirement already satisfied: kubernetes>=28.1.0 in /usr/local/lib/python3.11/dist-packages (from chromadb) (32.0.1)\n",
            "Requirement already satisfied: mmh3>=4.0.1 in /usr/local/lib/python3.11/dist-packages (from chromadb) (5.1.0)\n",
            "Requirement already satisfied: orjson>=3.9.12 in /usr/local/lib/python3.11/dist-packages (from chromadb) (3.10.15)\n",
            "Requirement already satisfied: httpx>=0.27.0 in /usr/local/lib/python3.11/dist-packages (from chromadb) (0.28.1)\n",
            "Requirement already satisfied: rich>=10.11.0 in /usr/local/lib/python3.11/dist-packages (from chromadb) (13.9.4)\n",
            "Requirement already satisfied: anyio<5,>=3.5.0 in /usr/local/lib/python3.11/dist-packages (from openai) (3.7.1)\n",
            "Requirement already satisfied: distro<2,>=1.7.0 in /usr/local/lib/python3.11/dist-packages (from openai) (1.9.0)\n",
            "Requirement already satisfied: jiter<1,>=0.4.0 in /usr/local/lib/python3.11/dist-packages (from openai) (0.8.2)\n",
            "Requirement already satisfied: sniffio in /usr/local/lib/python3.11/dist-packages (from openai) (1.3.1)\n",
            "Requirement already satisfied: dataclasses-json<0.7,>=0.5.7 in /usr/local/lib/python3.11/dist-packages (from langchain-community) (0.6.7)\n",
            "Requirement already satisfied: pydantic-settings<3.0.0,>=2.4.0 in /usr/local/lib/python3.11/dist-packages (from langchain-community) (2.8.1)\n",
            "Requirement already satisfied: httpx-sse<1.0.0,>=0.4.0 in /usr/local/lib/python3.11/dist-packages (from langchain-community) (0.4.0)\n",
            "Requirement already satisfied: aiohappyeyeballs>=2.3.0 in /usr/local/lib/python3.11/dist-packages (from aiohttp<4.0.0,>=3.8.3->langchain) (2.4.6)\n",
            "Requirement already satisfied: aiosignal>=1.1.2 in /usr/local/lib/python3.11/dist-packages (from aiohttp<4.0.0,>=3.8.3->langchain) (1.3.2)\n",
            "Requirement already satisfied: attrs>=17.3.0 in /usr/local/lib/python3.11/dist-packages (from aiohttp<4.0.0,>=3.8.3->langchain) (25.1.0)\n",
            "Requirement already satisfied: frozenlist>=1.1.1 in /usr/local/lib/python3.11/dist-packages (from aiohttp<4.0.0,>=3.8.3->langchain) (1.5.0)\n",
            "Requirement already satisfied: multidict<7.0,>=4.5 in /usr/local/lib/python3.11/dist-packages (from aiohttp<4.0.0,>=3.8.3->langchain) (6.1.0)\n",
            "Requirement already satisfied: propcache>=0.2.0 in /usr/local/lib/python3.11/dist-packages (from aiohttp<4.0.0,>=3.8.3->langchain) (0.3.0)\n",
            "Requirement already satisfied: yarl<2.0,>=1.17.0 in /usr/local/lib/python3.11/dist-packages (from aiohttp<4.0.0,>=3.8.3->langchain) (1.18.3)\n",
            "Requirement already satisfied: idna>=2.8 in /usr/local/lib/python3.11/dist-packages (from anyio<5,>=3.5.0->openai) (3.10)\n",
            "Requirement already satisfied: packaging>=19.1 in /usr/local/lib/python3.11/dist-packages (from build>=1.0.3->chromadb) (24.2)\n",
            "Requirement already satisfied: pyproject_hooks in /usr/local/lib/python3.11/dist-packages (from build>=1.0.3->chromadb) (1.2.0)\n",
            "Requirement already satisfied: marshmallow<4.0.0,>=3.18.0 in /usr/local/lib/python3.11/dist-packages (from dataclasses-json<0.7,>=0.5.7->langchain-community) (3.26.1)\n",
            "Requirement already satisfied: typing-inspect<1,>=0.4.0 in /usr/local/lib/python3.11/dist-packages (from dataclasses-json<0.7,>=0.5.7->langchain-community) (0.9.0)\n",
            "Requirement already satisfied: starlette<0.46.0,>=0.40.0 in /usr/local/lib/python3.11/dist-packages (from fastapi>=0.95.2->chromadb) (0.45.3)\n",
            "Requirement already satisfied: certifi in /usr/local/lib/python3.11/dist-packages (from httpx>=0.27.0->chromadb) (2025.1.31)\n",
            "Requirement already satisfied: httpcore==1.* in /usr/local/lib/python3.11/dist-packages (from httpx>=0.27.0->chromadb) (1.0.7)\n",
            "Requirement already satisfied: h11<0.15,>=0.13 in /usr/local/lib/python3.11/dist-packages (from httpcore==1.*->httpx>=0.27.0->chromadb) (0.14.0)\n",
            "Requirement already satisfied: six>=1.9.0 in /usr/local/lib/python3.11/dist-packages (from kubernetes>=28.1.0->chromadb) (1.17.0)\n",
            "Requirement already satisfied: python-dateutil>=2.5.3 in /usr/local/lib/python3.11/dist-packages (from kubernetes>=28.1.0->chromadb) (2.8.2)\n",
            "Requirement already satisfied: google-auth>=1.0.1 in /usr/local/lib/python3.11/dist-packages (from kubernetes>=28.1.0->chromadb) (2.27.0)\n",
            "Requirement already satisfied: websocket-client!=0.40.0,!=0.41.*,!=0.42.*,>=0.32.0 in /usr/local/lib/python3.11/dist-packages (from kubernetes>=28.1.0->chromadb) (1.8.0)\n",
            "Requirement already satisfied: requests-oauthlib in /usr/local/lib/python3.11/dist-packages (from kubernetes>=28.1.0->chromadb) (2.0.0)\n",
            "Requirement already satisfied: oauthlib>=3.2.2 in /usr/local/lib/python3.11/dist-packages (from kubernetes>=28.1.0->chromadb) (3.2.2)\n",
            "Requirement already satisfied: urllib3>=1.24.2 in /usr/local/lib/python3.11/dist-packages (from kubernetes>=28.1.0->chromadb) (2.3.0)\n",
            "Requirement already satisfied: durationpy>=0.7 in /usr/local/lib/python3.11/dist-packages (from kubernetes>=28.1.0->chromadb) (0.9)\n",
            "Requirement already satisfied: jsonpatch<2.0,>=1.33 in /usr/local/lib/python3.11/dist-packages (from langchain-core<1.0.0,>=0.3.35->langchain) (1.33)\n",
            "Requirement already satisfied: requests-toolbelt<2.0.0,>=1.0.0 in /usr/local/lib/python3.11/dist-packages (from langsmith<0.4,>=0.1.17->langchain) (1.0.0)\n",
            "Requirement already satisfied: zstandard<0.24.0,>=0.23.0 in /usr/local/lib/python3.11/dist-packages (from langsmith<0.4,>=0.1.17->langchain) (0.23.0)\n",
            "Requirement already satisfied: coloredlogs in /usr/local/lib/python3.11/dist-packages (from onnxruntime>=1.14.1->chromadb) (15.0.1)\n",
            "Requirement already satisfied: flatbuffers in /usr/local/lib/python3.11/dist-packages (from onnxruntime>=1.14.1->chromadb) (25.2.10)\n",
            "Requirement already satisfied: protobuf in /usr/local/lib/python3.11/dist-packages (from onnxruntime>=1.14.1->chromadb) (5.29.3)\n",
            "Requirement already satisfied: sympy in /usr/local/lib/python3.11/dist-packages (from onnxruntime>=1.14.1->chromadb) (1.13.1)\n",
            "Requirement already satisfied: deprecated>=1.2.6 in /usr/local/lib/python3.11/dist-packages (from opentelemetry-api>=1.2.0->chromadb) (1.2.18)\n",
            "Requirement already satisfied: importlib-metadata<=8.5.0,>=6.0 in /usr/local/lib/python3.11/dist-packages (from opentelemetry-api>=1.2.0->chromadb) (8.5.0)\n",
            "Requirement already satisfied: googleapis-common-protos~=1.52 in /usr/local/lib/python3.11/dist-packages (from opentelemetry-exporter-otlp-proto-grpc>=1.2.0->chromadb) (1.68.0)\n",
            "Requirement already satisfied: opentelemetry-exporter-otlp-proto-common==1.30.0 in /usr/local/lib/python3.11/dist-packages (from opentelemetry-exporter-otlp-proto-grpc>=1.2.0->chromadb) (1.30.0)\n",
            "Requirement already satisfied: opentelemetry-proto==1.30.0 in /usr/local/lib/python3.11/dist-packages (from opentelemetry-exporter-otlp-proto-grpc>=1.2.0->chromadb) (1.30.0)\n",
            "Requirement already satisfied: opentelemetry-instrumentation-asgi==0.51b0 in /usr/local/lib/python3.11/dist-packages (from opentelemetry-instrumentation-fastapi>=0.41b0->chromadb) (0.51b0)\n",
            "Requirement already satisfied: opentelemetry-instrumentation==0.51b0 in /usr/local/lib/python3.11/dist-packages (from opentelemetry-instrumentation-fastapi>=0.41b0->chromadb) (0.51b0)\n",
            "Requirement already satisfied: opentelemetry-semantic-conventions==0.51b0 in /usr/local/lib/python3.11/dist-packages (from opentelemetry-instrumentation-fastapi>=0.41b0->chromadb) (0.51b0)\n",
            "Requirement already satisfied: opentelemetry-util-http==0.51b0 in /usr/local/lib/python3.11/dist-packages (from opentelemetry-instrumentation-fastapi>=0.41b0->chromadb) (0.51b0)\n",
            "Requirement already satisfied: wrapt<2.0.0,>=1.0.0 in /usr/local/lib/python3.11/dist-packages (from opentelemetry-instrumentation==0.51b0->opentelemetry-instrumentation-fastapi>=0.41b0->chromadb) (1.17.2)\n",
            "Requirement already satisfied: asgiref~=3.0 in /usr/local/lib/python3.11/dist-packages (from opentelemetry-instrumentation-asgi==0.51b0->opentelemetry-instrumentation-fastapi>=0.41b0->chromadb) (3.8.1)\n",
            "Requirement already satisfied: monotonic>=1.5 in /usr/local/lib/python3.11/dist-packages (from posthog>=2.4.0->chromadb) (1.6)\n",
            "Requirement already satisfied: backoff>=1.10.0 in /usr/local/lib/python3.11/dist-packages (from posthog>=2.4.0->chromadb) (2.2.1)\n",
            "Requirement already satisfied: annotated-types>=0.6.0 in /usr/local/lib/python3.11/dist-packages (from pydantic<3.0.0,>=2.7.4->langchain) (0.7.0)\n",
            "Requirement already satisfied: pydantic-core==2.27.2 in /usr/local/lib/python3.11/dist-packages (from pydantic<3.0.0,>=2.7.4->langchain) (2.27.2)\n",
            "Requirement already satisfied: python-dotenv>=0.21.0 in /usr/local/lib/python3.11/dist-packages (from pydantic-settings<3.0.0,>=2.4.0->langchain-community) (1.0.1)\n",
            "Requirement already satisfied: charset-normalizer<4,>=2 in /usr/local/lib/python3.11/dist-packages (from requests<3,>=2->langchain) (3.4.1)\n",
            "Requirement already satisfied: markdown-it-py>=2.2.0 in /usr/local/lib/python3.11/dist-packages (from rich>=10.11.0->chromadb) (3.0.0)\n",
            "Requirement already satisfied: pygments<3.0.0,>=2.13.0 in /usr/local/lib/python3.11/dist-packages (from rich>=10.11.0->chromadb) (2.18.0)\n",
            "Requirement already satisfied: greenlet!=0.4.17 in /usr/local/lib/python3.11/dist-packages (from SQLAlchemy<3,>=1.4->langchain) (3.1.1)\n",
            "Requirement already satisfied: huggingface-hub<1.0,>=0.16.4 in /usr/local/lib/python3.11/dist-packages (from tokenizers>=0.13.2->chromadb) (0.28.1)\n",
            "Requirement already satisfied: click>=8.0.0 in /usr/local/lib/python3.11/dist-packages (from typer>=0.9.0->chromadb) (8.1.8)\n",
            "Requirement already satisfied: shellingham>=1.3.0 in /usr/local/lib/python3.11/dist-packages (from typer>=0.9.0->chromadb) (1.5.4)\n",
            "Requirement already satisfied: httptools>=0.6.3 in /usr/local/lib/python3.11/dist-packages (from uvicorn[standard]>=0.18.3->chromadb) (0.6.4)\n",
            "Requirement already satisfied: uvloop!=0.15.0,!=0.15.1,>=0.14.0 in /usr/local/lib/python3.11/dist-packages (from uvicorn[standard]>=0.18.3->chromadb) (0.21.0)\n",
            "Requirement already satisfied: watchfiles>=0.13 in /usr/local/lib/python3.11/dist-packages (from uvicorn[standard]>=0.18.3->chromadb) (1.0.4)\n",
            "Requirement already satisfied: websockets>=10.4 in /usr/local/lib/python3.11/dist-packages (from uvicorn[standard]>=0.18.3->chromadb) (14.2)\n",
            "Requirement already satisfied: cachetools<6.0,>=2.0.0 in /usr/local/lib/python3.11/dist-packages (from google-auth>=1.0.1->kubernetes>=28.1.0->chromadb) (5.5.2)\n",
            "Requirement already satisfied: pyasn1-modules>=0.2.1 in /usr/local/lib/python3.11/dist-packages (from google-auth>=1.0.1->kubernetes>=28.1.0->chromadb) (0.4.1)\n",
            "Requirement already satisfied: rsa<5,>=3.1.4 in /usr/local/lib/python3.11/dist-packages (from google-auth>=1.0.1->kubernetes>=28.1.0->chromadb) (4.9)\n",
            "Requirement already satisfied: filelock in /usr/local/lib/python3.11/dist-packages (from huggingface-hub<1.0,>=0.16.4->tokenizers>=0.13.2->chromadb) (3.17.0)\n",
            "Requirement already satisfied: fsspec>=2023.5.0 in /usr/local/lib/python3.11/dist-packages (from huggingface-hub<1.0,>=0.16.4->tokenizers>=0.13.2->chromadb) (2024.10.0)\n",
            "Requirement already satisfied: zipp>=3.20 in /usr/local/lib/python3.11/dist-packages (from importlib-metadata<=8.5.0,>=6.0->opentelemetry-api>=1.2.0->chromadb) (3.21.0)\n",
            "Requirement already satisfied: jsonpointer>=1.9 in /usr/local/lib/python3.11/dist-packages (from jsonpatch<2.0,>=1.33->langchain-core<1.0.0,>=0.3.35->langchain) (3.0.0)\n",
            "Requirement already satisfied: mdurl~=0.1 in /usr/local/lib/python3.11/dist-packages (from markdown-it-py>=2.2.0->rich>=10.11.0->chromadb) (0.1.2)\n",
            "Requirement already satisfied: mypy-extensions>=0.3.0 in /usr/local/lib/python3.11/dist-packages (from typing-inspect<1,>=0.4.0->dataclasses-json<0.7,>=0.5.7->langchain-community) (1.0.0)\n",
            "Requirement already satisfied: humanfriendly>=9.1 in /usr/local/lib/python3.11/dist-packages (from coloredlogs->onnxruntime>=1.14.1->chromadb) (10.0)\n",
            "Requirement already satisfied: mpmath<1.4,>=1.1.0 in /usr/local/lib/python3.11/dist-packages (from sympy->onnxruntime>=1.14.1->chromadb) (1.3.0)\n",
            "Requirement already satisfied: pyasn1<0.7.0,>=0.4.6 in /usr/local/lib/python3.11/dist-packages (from pyasn1-modules>=0.2.1->google-auth>=1.0.1->kubernetes>=28.1.0->chromadb) (0.6.1)\n"
          ]
        }
      ],
      "source": [
        "!pip install langchain langchain_openai tiktoken chromadb pymupdf openai langchain-community"
      ]
    },
    {
      "cell_type": "code",
      "source": [
        "import os\n",
        "import requests\n",
        "from langchain.text_splitter import RecursiveCharacterTextSplitter\n",
        "from langchain_openai import OpenAIEmbeddings\n",
        "from langchain_community.document_loaders import PyMuPDFLoader\n",
        "from langchain_community.vectorstores import Chroma\n",
        "from langchain.tools.retriever import create_retriever_tool\n",
        "from langchain import hub\n",
        "from langchain.chat_models import ChatOpenAI\n",
        "from langchain.agents import AgentExecutor, create_react_agent\n",
        "from langchain_core.prompts import PromptTemplate"
      ],
      "metadata": {
        "id": "Dr5iHJXnQpXs"
      },
      "execution_count": null,
      "outputs": []
    },
    {
      "cell_type": "code",
      "source": [
        "os.environ[\"OPENAI_API_KEY\"] = \"여러분의 Key 값\""
      ],
      "metadata": {
        "id": "V8FHOjwJWFnm"
      },
      "execution_count": null,
      "outputs": []
    },
    {
      "cell_type": "code",
      "source": [
        "urls = [\n",
        "   \"https://raw.githubusercontent.com/llama-index-tutorial/llama-index-tutorial/main/ch06/ict_japan_2024.pdf\",\n",
        "   \"https://raw.githubusercontent.com/llama-index-tutorial/llama-index-tutorial/main/ch06/ict_usa_2024.pdf\"\n",
        "]\n",
        "\n",
        "# 각 파일 다운로드\n",
        "for url in urls:\n",
        "   filename = url.split(\"/\")[-1]  # URL에서 파일명 추출\n",
        "   response = requests.get(url)\n",
        "\n",
        "   with open(filename, \"wb\") as f:\n",
        "       f.write(response.content)\n",
        "   print(f\"{filename} 다운로드 완료\")"
      ],
      "metadata": {
        "colab": {
          "base_uri": "https://localhost:8080/"
        },
        "id": "jiod8Sob9s_s",
        "outputId": "6066f26c-4984-41a3-bfc2-da88e9b17aeb"
      },
      "execution_count": null,
      "outputs": [
        {
          "output_type": "stream",
          "name": "stdout",
          "text": [
            "ict_japan_2024.pdf 다운로드 완료\n",
            "ict_usa_2024.pdf 다운로드 완료\n"
          ]
        }
      ]
    },
    {
      "cell_type": "markdown",
      "source": [
        "Github에 저장된 일본과 미국의 ICT 정책 보고서 PDF를 로컬 환경으로 가져오는 코드입니다.  \n",
        "\n",
        "urls 리스트는 Github의 raw 콘텐츠 URL을 담고 있습니다. 각 URL은 2024년 발행된 일본과 미국의 ICT 정책 보고서를 가리킵니다.  \n",
        "\n",
        "반복문은 각 URL의 파일을 차례로 다운로드합니다. split() 메서드로 URL의 마지막 부분에서 파일명을 추출하고, requests로 원격 파일의 내용을 받아옵니다. 받아온 내용은 바이너리 쓰기 모드로 로컬에 저장되며, 저장이 끝날 때마다 완료 메시지가 출력됩니다. 이 파일들은 벡터 데이터베이스 구축을 위한 원본 자료로 사용될 예정입니다."
      ],
      "metadata": {
        "id": "hC0VlyKsQY5D"
      }
    },
    {
      "cell_type": "code",
      "source": [
        "# 임베딩 설정\n",
        "embd = OpenAIEmbeddings()"
      ],
      "metadata": {
        "id": "Rb_tz3ZHUxRo"
      },
      "execution_count": null,
      "outputs": []
    },
    {
      "cell_type": "markdown",
      "source": [
        "PDF 파일은 아래 파일을 인터넷에 검색하면 나오는데 그걸 업로드하세요"
      ],
      "metadata": {
        "id": "eGttj3kweemj"
      }
    },
    {
      "cell_type": "code",
      "source": [
        "def create_pdf_retriever(\n",
        "    pdf_path: str,  # PDF 파일 경로\n",
        "    persist_directory: str,  # 벡터 스토어 저장 경로\n",
        "    embedding_model: OpenAIEmbeddings,  # OpenAIEmbeddings 임베딩 모델\n",
        "    chunk_size: int = 512,  # 청크 크기 기본값 512\n",
        "    chunk_overlap: int = 0  # 청크 오버랩 크기 기본값 0\n",
        ") -> Chroma.as_retriever:\n",
        "\n",
        "    # PDF 파일로드. 페이지 별로 로드.\n",
        "    loader = PyMuPDFLoader(pdf_path)\n",
        "    data = loader.load()\n",
        "\n",
        "    # 청킹. 길이를 주면, 해당 길이가 넘지 않도록 자르는 것.\n",
        "    text_splitter = RecursiveCharacterTextSplitter.from_tiktoken_encoder(\n",
        "        chunk_size=chunk_size, # PDF의 각 페이지를 최대 길이 512가 넘지 않도록 잘게 분할.\n",
        "        chunk_overlap=chunk_overlap\n",
        "    )\n",
        "    doc_splits = text_splitter.split_documents(data)\n",
        "\n",
        "    # 벡터 DB에 적재\n",
        "    vectorstore = Chroma.from_documents(\n",
        "        persist_directory=persist_directory,\n",
        "        documents=doc_splits,\n",
        "        embedding=embedding_model,\n",
        "    )\n",
        "\n",
        "    # 벡터 DB를 retriever 객체로 반환.\n",
        "    return vectorstore.as_retriever()"
      ],
      "metadata": {
        "id": "1RiOIzYmUyXA"
      },
      "execution_count": null,
      "outputs": []
    },
    {
      "cell_type": "markdown",
      "source": [
        "create_pdf_retriever 함수는 PDF 문서를 벡터 데이터베이스로 변환하고 이를 검색할 수 있는 retriever를 생성하는 함수입니다. 이 함수는 PDF 파일 경로, 벡터 저장소 경로, OpenAI 임베딩 모델을 필수 입력으로 받으며, 청크 크기와 오버랩 크기는 선택적 매개변수로 기본값이 각각 512와 0으로 설정되어 있습니다.  \n",
        "\n",
        "함수 내부적으로 PDF를 처리하는 과정은 세 단계로 이루어집니다. 먼저 PyMuPDF 라이브러리로 PDF를 읽어들입니다. 그 다음 RecursiveCharacterTextSplitter를 사용해 텍스트를 청크 단위로 분할합니다. 이는 긴 문서를 다수의 문서로 분할하기 위함입니다. 분할된 다수의 문서들은 OpenAI의 임베딩 모델을 통해 Chroma 벡터 데이터베이스에 저장됩니다. 마지막으로 create_pdf_retriever 함수는 생성된 벡터 데이터베이스의 검색 인터페이스(retriever)를 반환합니다. 이 retriever는 자연어 질의에 대해 관련성 높은 PDF 내용을 검색할 수 있는 검색기입니다.  \n",
        "\n",
        "이제 위 함수를 이용하여 일본 ICT 정책에 대해서 검색하는 검색기와 미국 ICT 정책에 대해서 검색하는 검색기를 각각 만들어봅시다."
      ],
      "metadata": {
        "id": "vf5LSC9UQlmi"
      }
    },
    {
      "cell_type": "code",
      "source": [
        "# 일본 ICT 정책 데이터베이스 생성\n",
        "retriever_japan = create_pdf_retriever(\n",
        "    pdf_path=\"ict_japan_2024.pdf\",\n",
        "    persist_directory=\"db_ict_policy_japan_2024\",\n",
        "    embedding_model=embd\n",
        ")\n",
        "\n",
        "# 미국 ICT 정책 데이터베이스 생성\n",
        "retriever_usa = create_pdf_retriever(\n",
        "    pdf_path=\"ict_usa_2024.pdf\",\n",
        "    persist_directory=\"db_ict_policy_usa_2024\",\n",
        "    embedding_model=embd\n",
        ")"
      ],
      "metadata": {
        "id": "O0D9aJTn-k_r"
      },
      "execution_count": null,
      "outputs": []
    },
    {
      "cell_type": "markdown",
      "source": [
        "create_pdf_retriever 함수를 사용해 일본과 미국의 ICT 정책 문서를 각각의 벡터 데이터베이스 검색기로 생성합니다. persist_directory에 \"db_ict_policy_japan_2024\"와 \"db_ict_policy_usa_2024\"라는 서로 다른 경로를 지정함으로써, 두 문서의 벡터 데이터베이스가 서로 영향을 주지 않고 독립적으로 저장되고 관리됩니다. 만약 같은 경로를 사용했다면 두 번째 문서 처리 시 첫 번째 문서의 데이터가 덮어써지거나 혼합될 수 있기 때문에, 이렇게 경로를 분리하는 것이 중요합니다.  \n",
        "\n",
        "일본 ICT 정책의 경우 \"ict_japan_2024.pdf\" 파일을 읽어 \"db_ict_policy_japan_2024\" 디렉토리에 벡터 데이터베이스를 생성합니다. 마찬가지로 미국 ICT 정책은 \"ict_usa_2024.pdf\" 파일을 \"db_ict_policy_usa_2024\" 디렉토리에 저장합니다.  \n",
        "\n",
        "이렇게 두 개의 검색기를 만들었습니다. 이제 이렇게 만들어진 두 개의 retriever 객체를 create_retriever_tool 함수를 통해 ReAct 에이전트가 사용할 수 있는 검색 도구로 변환해봅시다."
      ],
      "metadata": {
        "id": "GPlwoJp4QtXI"
      }
    },
    {
      "cell_type": "code",
      "source": [
        "jp_engine = create_retriever_tool(\n",
        "    retriever=retriever_japan,\n",
        "    name=\"japan_ict\",\n",
        "    description=\"일본의 ICT 시장동향 정보를 제공합니다. 일본 ICT와 관련된 질문은 해당 도구를 사용하세요.\",\n",
        ")\n",
        "\n",
        "usa_engine = create_retriever_tool(\n",
        "    retriever=retriever_usa,\n",
        "    name=\"usa_ict\",\n",
        "    description=\"미국의 ICT 시장동향 정보를 제공합니다. 미국 ICT와 관련된 질문은 해당 도구를 사용하세요.\",\n",
        ")"
      ],
      "metadata": {
        "id": "QrXhC_Y3U8ez"
      },
      "execution_count": null,
      "outputs": []
    },
    {
      "cell_type": "code",
      "source": [
        "tools = [jp_engine, usa_engine]"
      ],
      "metadata": {
        "id": "UImzhdxaVuBK"
      },
      "execution_count": null,
      "outputs": []
    },
    {
      "cell_type": "markdown",
      "source": [
        "create_retriever_tool 함수는 retriever 객체를 ReACT 에이전트가 활용할 수 있는 형태의 도구로 변환해주는 함수입니다. 앞서 생성한 retriever_japan과 retriever_usa 객체를 바탕으로 도구의 이름(name)과 설명(description)을 추가하여 ReAct 에이전트가 활용할 수 있는 형태로 만듭니다.  \n",
        "\n",
        "description에는 각 검색기의 상세한 용도를 작성해야 합니다. 예를 들어 일본 ICT 검색기의 경우 \"일본의 ICT 시장동향 정보를 제공합니다. 일본 ICT와 관련된 질문은 해당 도구를 사용하세요\"라는 설명을 작성했습니다. 여기서 주의할 점은 각 도구에 대한 description을 매우 상세하게 작성해야 한다는 점입니다. 이후 ReAct 에이전트가 동작할 때, 에이전트는 여기서 적힌 설명을 보고 사용자의 질문에 따라서 도구를 선택합니다. 따라서 description에 도구에 대한 설명이 제대로 적혀있지 않다면, 에이전트는 상황에 맞는 도구 선택을 제대로 할 수 없으므로 주의합니다.\n",
        "\n",
        "생성된 jp_engine과 usa_engine은 tools 리스트에 담았습니다. 이 tools 리스트는 뒤의 코드에서 ReAct 에이전트에게 전달됩니다. 에이전트는 이 도구들의 상세한 description을 통해 각 질문에 가장 적합한 도구를 선택하고 효과적인 검색을 수행할 수 있게 됩니다."
      ],
      "metadata": {
        "id": "iQkBhIIjQ5wq"
      }
    },
    {
      "cell_type": "markdown",
      "source": [
        "다음은 ReAct 에이전트에서 기본적으로 권장되는 프롬프트입니다. 이 프롬프트는 말 그대로 기본 프롬프트이기 때문에 제대로 된 성능을 얻기 위해서는 커스텀이 필요합니다."
      ],
      "metadata": {
        "id": "s51XRfcGObK4"
      }
    },
    {
      "cell_type": "code",
      "source": [
        "prompt_react = hub.pull(\"hwchase17/react\")\n",
        "print(prompt_react.template)\n",
        "print('--프롬프트 끝--')"
      ],
      "metadata": {
        "colab": {
          "base_uri": "https://localhost:8080/"
        },
        "id": "Ky8bSwSCV74G",
        "outputId": "6cab21ce-543f-40bf-f098-e37c38753481"
      },
      "execution_count": null,
      "outputs": [
        {
          "output_type": "stream",
          "name": "stdout",
          "text": [
            "Answer the following questions as best you can. You have access to the following tools:\n",
            "\n",
            "{tools}\n",
            "\n",
            "Use the following format:\n",
            "\n",
            "Question: the input question you must answer\n",
            "Thought: you should always think about what to do\n",
            "Action: the action to take, should be one of [{tool_names}]\n",
            "Action Input: the input to the action\n",
            "Observation: the result of the action\n",
            "... (this Thought/Action/Action Input/Observation can repeat N times)\n",
            "Thought: I now know the final answer\n",
            "Final Answer: the final answer to the original input question\n",
            "\n",
            "Begin!\n",
            "\n",
            "Question: {input}\n",
            "Thought:{agent_scratchpad}\n",
            "--프롬프트 끝--\n"
          ]
        },
        {
          "output_type": "stream",
          "name": "stderr",
          "text": [
            "/usr/local/lib/python3.11/dist-packages/langsmith/client.py:253: LangSmithMissingAPIKeyWarning: API key must be provided when using hosted LangSmith API\n",
            "  warnings.warn(\n"
          ]
        }
      ]
    },
    {
      "cell_type": "markdown",
      "source": [
        "더 좋은 성능을 얻고 한글 답변을 얻기 위해서 프롬프트를 한글 번역 후 몇 가지 지시사항을 추가"
      ],
      "metadata": {
        "id": "NLzWK9lNCQqA"
      }
    },
    {
      "cell_type": "code",
      "source": [
        "template = '''다음 질문에 최선을 다해 답변하세요. 당신은 다음 도구들에 접근할 수 있습니다:\n",
        "\n",
        "{tools}\n",
        "\n",
        "다음 형식을 사용하세요:\n",
        "\n",
        "Question: 답변해야 하는 입력 질문\n",
        "Thought: 무엇을 할지 항상 생각하세요\n",
        "Action: 취해야 할 행동, [{tool_names}] 중 하나여야 합니다. 리스트에 있는 도구 중 1개를 택하십시오.\n",
        "Action Input: 행동에 대한 입력값\n",
        "Observation: 행동의 결과\n",
        "... (이 Thought/Action/Action Input/Observation의 과정이 N번 반복될 수 있습니다)\n",
        "Thought: 이제 최종 답변을 알겠습니다\n",
        "Final Answer: 원래 입력된 질문에 대한 최종 답변\n",
        "\n",
        "## 추가적인 주의사항\n",
        "- 반드시 [Thought -> Action -> Action Input format] 이 사이클의 순서를 준수하십시오. 항상 Action 전에는 Thought가 먼저 나와야 합니다.\n",
        "- 최종 답변에는 최대한 많은 내용을 포함하십시오.\n",
        "- 한 번의 검색으로 해결되지 않을 것 같다면 문제를 분할하여 푸는 것은 중요합니다.\n",
        "- 정보가 취합되었다면 불필요하게 사이클을 반복하지 마십시오.\n",
        "- 묻지 않은 정보를 찾으려고 도구를 사용하지 마십시오.\n",
        "\n",
        "시작하세요!\n",
        "\n",
        "Question: {input}\n",
        "Thought: {agent_scratchpad}'''\n",
        "\n",
        "prompt = PromptTemplate.from_template(template)"
      ],
      "metadata": {
        "id": "LhCW372l4Ks4"
      },
      "execution_count": null,
      "outputs": []
    },
    {
      "cell_type": "code",
      "source": [
        "# GPT-4o로부터 llm 객체를 선언\n",
        "llm = ChatOpenAI(model=\"gpt-4o-2024-08-06\", temperature=0)\n",
        "\n",
        "# prompt_react를 사용하면 영어 프롬프트. prompt를 사용하면 한글 프롬프트\n",
        "react_agent = create_react_agent(llm, tools=tools, prompt=prompt)\n",
        "\n",
        "react_agent_executor = AgentExecutor(\n",
        "    agent=react_agent, tools=tools, verbose=True, handle_parsing_errors=True\n",
        ")"
      ],
      "metadata": {
        "id": "dtCey6-R7O_c",
        "colab": {
          "base_uri": "https://localhost:8080/"
        },
        "outputId": "ca3af771-7abb-4727-f7f5-eee6221404d1"
      },
      "execution_count": null,
      "outputs": [
        {
          "output_type": "stream",
          "name": "stderr",
          "text": [
            "<ipython-input-12-8f015fd5b20b>:2: LangChainDeprecationWarning: The class `ChatOpenAI` was deprecated in LangChain 0.0.10 and will be removed in 1.0. An updated version of the class exists in the :class:`~langchain-openai package and should be used instead. To use it run `pip install -U :class:`~langchain-openai` and import as `from :class:`~langchain_openai import ChatOpenAI``.\n",
            "  llm = ChatOpenAI(model=\"gpt-4o-2024-08-06\", temperature=0)\n"
          ]
        }
      ]
    },
    {
      "cell_type": "markdown",
      "source": [
        "llm 변수에 gpt-4o 모델을 temperature 0으로 설정해 초기화합니다. temperature 0은 모델의 응답을 가능한 한 일관되고 결정적으로 만듭니다.  \n",
        "\n",
        "이어서 앞서 만든 검색 도구들(tools)과 llm을 결합해 react_agent를 생성합니다. prompt 매개변수를 사용해 한글로 응답하도록 설정했습니다.  \n",
        "\n",
        "마지막으로 react_agent와 tools를 AgentExecutor로 감쌉니다. verbose=True로 설정해 실행 과정을 상세히 볼 수 있고, handle_parsing_errors=True로 설정해 파싱 오류가 발생하더라도 자동으로 처리합니다. 여기서 파싱 오류란 Thought/Action/Action Input/Observation을 작성하는 과정에서 가끔 거대 언어 모델이 형식을 잘못 작성하는 경우를 의미합니다.\n",
        "\n",
        "이렇게 만들어진 react_agent_executor는 사용자 질문에 대해 적절한 도구를 선택하고 응답을 생성할 것입니다."
      ],
      "metadata": {
        "id": "NZDfUDHQRGbr"
      }
    },
    {
      "cell_type": "code",
      "source": [
        "result = react_agent_executor.invoke({\"input\": \"한국과 미국의 ICT 기관 협력 사례\"})"
      ],
      "metadata": {
        "colab": {
          "base_uri": "https://localhost:8080/"
        },
        "id": "A7LUc5Hs58MC",
        "outputId": "259ab2a8-31aa-4bd3-a308-f1534f3990e9"
      },
      "execution_count": null,
      "outputs": [
        {
          "output_type": "stream",
          "name": "stdout",
          "text": [
            "\n",
            "\n",
            "\u001b[1m> Entering new AgentExecutor chain...\u001b[0m\n",
            "\u001b[32;1m\u001b[1;3m이 질문은 한국과 미국 간의 ICT 협력 사례에 대한 정보를 요구하고 있습니다. 주어진 도구 중에서는 미국의 ICT 시장 동향 정보를 제공하는 도구가 관련이 있을 수 있습니다. 따라서, 미국의 ICT 관련 정보를 통해 협력 사례를 찾을 수 있을지 확인해보겠습니다.\n",
            "\n",
            "Action: usa_ict\n",
            "Action Input: \"한국과 미국의 ICT 협력 사례\" \u001b[0m\u001b[33;1m\u001b[1;3m15 \n",
            "Ⅰ. ICT 국가 산업 현황\n",
            " 6. 한국 협력 및 국내기업 진출사례\n",
            " 한국-미국 FTA 체결 여부\n",
            "• 2012년 3월 한-미 FTA 발효됨\n",
            "• 2019년 1월 한-미 FTA 개정 의정서 발효, 투자자-국가분쟁해결제도(ISDS)와 수출기업에 부담이 \n",
            "된 무역구제 절차 개선됨\n",
            "• 2022년 한-미 FTA 10주년을 기념해 정부·국회 대표단이 워싱턴 D.C(Washington DC), \n",
            "미시간(Michigan), 뉴욕(New York) 등을 방문함\n",
            " 한국-미국 ICT 기관 협력 사례\n",
            "• 과기정통부와 미국 기관 간 ICT 협력 사례가 주목됨 \n",
            " 한국-미국 ICT 기업 진출 사례\n",
            "\n",
            "24 \n",
            "Ⅱ. ICT 이슈 Top10 \n",
            " ⑦미국, 기술 교류를 위한 국가 간 협력 활발\n",
            " 싱가포르와의 전략적 기술 파트너십 강화\n",
            "• 로렌스 웡(Lawrence Wong) 싱가포르 부총리의 워싱턴 D.C. 방문을 계기로, 미국과 싱가포르는 \n",
            "미-싱가포르 중요 및 신흥 기술(CET) 대화를 시작함. 대화는 연구, 혁신 및 상업적 관계를 \n",
            "강화하여 과학적 지식의 국경을 확장하고 번영을 촉진하는 것을 목표로 하며, 인도-태평양 지역,\n",
            "\n",
            "19 \n",
            "Ⅱ. ICT 이슈 Top10\n",
            " ②미국, 일본과 양자컴퓨팅 개발 협력\n",
            " 양국 정상, 양자컴퓨팅 및 첨단 기술 협력 강화에 주력\n",
            "• 기시다 후미오 일본 총리와 조 바이든 미국 대통령은 히로시마 회담에서 반도체, 인공지능, 특히 \n",
            "양자컴퓨팅 분야에서의 협력의 중요성을 강조함. 이는 베이징의 주장적 행동과 증가하는 미-중 \n",
            "기술 경쟁에 대응하기 위한 전략적 노력으로 평가됨. 두 정상은 인도-태평양 지역의 평화와\n",
            "\n",
            "Ⅱ ICT 이슈 TOP 10                   16\n",
            "   ① 미국 빅테크 기업, 인공지능 챗봇 개발에 주력\n",
            "   ② 미국, 일본과 양자컴퓨팅 개발 협력\n",
            "   ③ 미국, 우주 클라우드 컴퓨팅 시장 주도 \n",
            "   ④ 미국, 드론 배송 도입 활발\n",
            "   ⑤ 미국, 긍정적인 의료 AI 인식 바탕으로 연구 활발\n",
            "   ⑥ 미국, 반도체 산업 활성화에 박차\n",
            "   ⑦ 미국, 기술 교류를 위한 국가 간 협력 활발\n",
            "   ⑧ 미국, 사이버 보안 대응 강화   \n",
            "   ⑨ 미국, 6G 주도권 확보 위한 연구 추진\u001b[0m\u001b[32;1m\u001b[1;3mThought: 관찰 결과에 따르면, 한국과 미국 간의 ICT 협력 사례로는 과기정통부와 미국 기관 간의 협력이 주목받고 있다는 정보가 있습니다. 또한, 한-미 FTA 체결 및 개정이 양국 간의 협력에 중요한 역할을 하고 있음을 알 수 있습니다. 이 정보는 한국과 미국 간의 ICT 협력 사례에 대한 질문에 대한 답변으로 적절합니다.\n",
            "\n",
            "Final Answer: 한국과 미국 간의 ICT 협력 사례로는 과학기술정보통신부(과기정통부)와 미국 기관 간의 협력이 주목받고 있습니다. 또한, 2012년 한-미 FTA 발효와 2019년 개정 의정서 발효가 양국 간의 협력에 중요한 역할을 하고 있으며, 2022년에는 한-미 FTA 10주년을 기념하여 정부 및 국회 대표단이 미국을 방문하는 등의 활동이 있었습니다. 이러한 협력은 양국 간의 ICT 분야에서의 협력을 강화하는 데 기여하고 있습니다.\u001b[0m\n",
            "\n",
            "\u001b[1m> Finished chain.\u001b[0m\n"
          ]
        }
      ]
    },
    {
      "cell_type": "code",
      "source": [
        "print('최종 답변:', result['output'])"
      ],
      "metadata": {
        "colab": {
          "base_uri": "https://localhost:8080/"
        },
        "id": "1oyrZbRwOLqb",
        "outputId": "4c3db2e7-b500-4b93-fe21-62ab30805129"
      },
      "execution_count": null,
      "outputs": [
        {
          "output_type": "stream",
          "name": "stdout",
          "text": [
            "최종 답변: 한국과 미국 간의 ICT 협력 사례로는 과학기술정보통신부(과기정통부)와 미국 기관 간의 협력이 주목받고 있습니다. 또한, 2012년 한-미 FTA 발효와 2019년 개정 의정서 발효가 양국 간의 협력에 중요한 역할을 하고 있으며, 2022년에는 한-미 FTA 10주년을 기념하여 정부 및 국회 대표단이 미국을 방문하는 등의 활동이 있었습니다. 이러한 협력은 양국 간의 ICT 분야에서의 협력을 강화하는 데 기여하고 있습니다.\n"
          ]
        }
      ]
    },
    {
      "cell_type": "markdown",
      "source": [
        "현재 질문은 \"한국과 미국의 ICT 기관 협력 사례\"였으며, 사용 가능한 도구는 retriever_japan과 retriever_usa입니다.\n",
        "\n",
        "ReAct 에이전트가 시작되자 에이전트는 질문의 의도에 따라서 적절한 도구를 배정하기 위해서 Thought(생각 과정)을 거칩니다. 생각 과정을 통해 질문이 미국의 ICT 시장과 연관이 있으므로, Action 단계에서 retriever_usa 도구를 선택하고, Action Input 단계에서 \"한국과 미국의 ICT 기관 협력 사례\"라는 검색어를 사용하게 됩니다.\n",
        "\n",
        "이에 대한 관찰 결과(Observation)를 얻고난 후에, 거대 언어 모델은 \"관찰 결과를 통해 한국과 미국의 ICT 기관 협력 사례에 대한 정보를 얻었습니다. 이제 이 정보를 바탕으로 최종 답변을 구성할 수 있습니다.\"라는 생각을 통해서 최종 답변(Final Answer)를 작성하게 됩니다."
      ],
      "metadata": {
        "id": "-MS3Q5hmTnEJ"
      }
    },
    {
      "cell_type": "code",
      "source": [
        "# 멀티 쿼리\n",
        "result = react_agent_executor.invoke({\"input\": \"미국과 일본의 ICT 주요 정책의 공통점과 차이점을 설명해줘.\"})"
      ],
      "metadata": {
        "colab": {
          "base_uri": "https://localhost:8080/"
        },
        "id": "v6M7cKyLXJ9H",
        "outputId": "284b07b3-43ac-4404-983c-97da0807d111"
      },
      "execution_count": null,
      "outputs": [
        {
          "output_type": "stream",
          "name": "stdout",
          "text": [
            "\n",
            "\n",
            "\u001b[1m> Entering new AgentExecutor chain...\u001b[0m\n",
            "\u001b[32;1m\u001b[1;3m미국과 일본의 ICT 주요 정책의 공통점과 차이점을 설명하기 위해서는 두 나라의 ICT 정책에 대한 정보를 각각 수집해야 합니다. 이를 위해 먼저 미국의 ICT 정책 정보를 수집하고, 그 다음 일본의 ICT 정책 정보를 수집한 후 비교하겠습니다.\n",
            "\n",
            "Action: usa_ict\n",
            "Action Input: 미국의 ICT 주요 정책\u001b[0m\u001b[33;1m\u001b[1;3mⅠ ICT 국가산업현황 \n",
            " 4\n",
            "(*) SUMMARY\n",
            "1. 국가 개황\n",
            "2. ICT 정부기구\n",
            "3. ICT 주요정책\n",
            "4. ICT 주요법령및규제\n",
            "5. ICT 주요기업\n",
            "6. 한국 협력 및 국내기업 진출사례\n",
            "Ⅱ ICT 이슈Top 10\n",
            " 16\n",
            "(*) SUMMARY\n",
            "① 미국 빅테크 기업, 인공지능 챗봇 개발에 주력\n",
            "② 미국, 일본과 양자컴퓨팅 개발 협력\n",
            "③ 미국, 우주 클라우드 컴퓨팅 시장 주도\n",
            "④ 미국, 드론 배송 도입 활발\n",
            "⑤ 미국, 긍정적인 의료 AI 인식 바탕으로 연구 활발\n",
            "⑥ 미국, 반도체 산업 활성화에 박차\n",
            "\n",
            "23 \n",
            "Ⅱ. ICT 이슈 Top10\n",
            " ⑥미국, 반도체 산업 활성화에 박차\n",
            " CHIPS 법안을 통한 연구개발 및 제조 지원 강화\n",
            "• 미국 정부는 반도체법(CHIPS Act)에 따라 반도체 산업을 활성화하기 위해 R&D와 제조 지원에 \n",
            "520억 달러(약 64조 8,400억 원)를 책정함. 이 조치는 반도체 생산 분야에서 미국의 경쟁력을 \n",
            "회복하려는 목적이며, 자금 배분은 세계 공급량의 40%에서 10%로 급감한 국내 생산 능력을 \n",
            "강화하기 위한 전략적 노력임\n",
            "\n",
            "24 \n",
            "Ⅱ. ICT 이슈 Top10 \n",
            " ⑦미국, 기술 교류를 위한 국가 간 협력 활발\n",
            " 싱가포르와의 전략적 기술 파트너십 강화\n",
            "• 로렌스 웡(Lawrence Wong) 싱가포르 부총리의 워싱턴 D.C. 방문을 계기로, 미국과 싱가포르는 \n",
            "미-싱가포르 중요 및 신흥 기술(CET) 대화를 시작함. 대화는 연구, 혁신 및 상업적 관계를 \n",
            "강화하여 과학적 지식의 국경을 확장하고 번영을 촉진하는 것을 목표로 하며, 인도-태평양 지역,\n",
            "\n",
            "Ⅱ ICT 이슈 TOP 10                   16\n",
            "   ① 미국 빅테크 기업, 인공지능 챗봇 개발에 주력\n",
            "   ② 미국, 일본과 양자컴퓨팅 개발 협력\n",
            "   ③ 미국, 우주 클라우드 컴퓨팅 시장 주도 \n",
            "   ④ 미국, 드론 배송 도입 활발\n",
            "   ⑤ 미국, 긍정적인 의료 AI 인식 바탕으로 연구 활발\n",
            "   ⑥ 미국, 반도체 산업 활성화에 박차\n",
            "   ⑦ 미국, 기술 교류를 위한 국가 간 협력 활발\n",
            "   ⑧ 미국, 사이버 보안 대응 강화   \n",
            "   ⑨ 미국, 6G 주도권 확보 위한 연구 추진\u001b[0m\u001b[32;1m\u001b[1;3mThought: 미국의 ICT 주요 정책에 대한 정보를 수집했습니다. 주요 정책으로는 반도체 산업 활성화, 기술 교류를 위한 국가 간 협력, 인공지능 및 6G 연구 등이 있습니다. 이제 일본의 ICT 주요 정책 정보를 수집하여 비교해보겠습니다.\n",
            "\n",
            "Action: japan_ict\n",
            "Action Input: 일본의 ICT 주요 정책\u001b[0m\u001b[36;1m\u001b[1;3mⅠ ICT 국가산업현황 \n",
            " 4\n",
            "(*) SUMMARY\n",
            "1. 국가 개황\n",
            "2. ICT 정부기구\n",
            "3. ICT 주요정책\n",
            "4. ICT 주요법령및규제\n",
            "5. ICT 주요기업\n",
            "6. 한국 협력 및 국내기업 진출사례\n",
            "Ⅱ ICT 이슈Top 10\n",
            " 16\n",
            "(*) SUMMARY\n",
            "① 일본, 아시아에서 두 번째로 큰 데이터센터 허브\n",
            "② 일본, 자체 개발 소프트웨어로 사이버보안 강화\n",
            "③ 일본, Web3 산업 성장 촉진 도모\n",
            "④ 일본, 정부 행정 업무에 생성형 AI 도입\n",
            "⑤ 일본, 첫 자체 제작 양자컴퓨터 공개\n",
            "⑥ 일본, 6G 기술 강화 위해 협력 및 규제 완화\n",
            "\n",
            "5 \n",
            "Ⅰ. ICT 국가 산업 현황\n",
            " 1. 국가 개황\n",
            " 일본, 글로벌 혁신지수 세계 40위\n",
            "• 일본의 인터넷 사용자 비중은 82.9%이며 고정 광대역 가입자 비중은 36.0%임\n",
            "• 일본 글로벌 혁신지수는 세계 13위임. ‘인프라’ 및 ‘지식 및 기술 생산’ 지표가 상대적으로 \n",
            "우위에 있으며, ‘창조적 생산’이 상대적 열위를 보임\n",
            " 기시다 총리, 결제 활성화 정책에 초점\n",
            "• 2023년 일본 물가상승률은 3.1%로 41년에 최대폭을 기록함. 일본은행은 2023년 12월\n",
            "\n",
            "13 \n",
            "Ⅰ. ICT 국가 산업 현황\n",
            " 4. ICT 주요법령 및 규제\n",
            "  ① 산업경쟁력 강화법(개정)\n",
            " 자국 산업 관련 투자 강화 정책\n",
            "• 일본 경제산업성(METI)은 2023년 12월 산업경쟁력 강화법 개정에 대해 논의한 자료를 발표함. \n",
            "산업경쟁력 강화법 개정 방향에 대한 정책적 지원 방안은 이하와 같음\n",
            "1) 국내 투자 촉진\n",
            "① 전략 분야 국내 생산 촉진\n",
            "- 정책 분야 중 국가적으로 장기 투자가 필수적인 투자 분야를 선정·집중 지원하는 방안 검토\n",
            "\n",
            "12 \n",
            "Ⅰ. ICT 국가 산업 현황\n",
            " 3. ICT 주요정책\n",
            "  ③ 반도체･디지털 산업전략 개정안\n",
            " 고도의 디지털 사회 실현 목표\n",
            "• 일본 경제산업성(METI)은 2023년 5월 ‘반도체･디지털 산업전략’을 발표함. 해당 전략은 반도체, \n",
            "디지털 인프라, 디지털 산업의 향후 정책 방향을 검토함\n",
            "• 2021년 6월 반도체･디지털 산업전략을 공표한 지 2년이 경과 되었으며, 러･우 사태로 경제\u001b[0m\u001b[32;1m\u001b[1;3mThought: 일본의 ICT 주요 정책에 대한 정보를 수집했습니다. 주요 정책으로는 데이터센터 허브 구축, 사이버보안 강화, Web3 산업 성장 촉진, 6G 기술 강화 등이 있습니다. 이제 미국과 일본의 ICT 주요 정책의 공통점과 차이점을 비교해보겠습니다.\n",
            "\n",
            "Final Answer: 미국과 일본의 ICT 주요 정책에는 몇 가지 공통점과 차이점이 있습니다.\n",
            "\n",
            "공통점:\n",
            "1. **반도체 산업 활성화**: 미국과 일본 모두 반도체 산업을 활성화하기 위한 정책을 추진하고 있습니다. 미국은 CHIPS 법안을 통해 반도체 R&D와 제조를 지원하고 있으며, 일본도 반도체 및 디지털 산업 전략을 통해 관련 산업을 강화하고 있습니다.\n",
            "2. **6G 기술 연구**: 두 나라 모두 6G 기술 개발에 주력하고 있습니다. 미국은 6G 주도권 확보를 위한 연구를 추진하고 있으며, 일본도 6G 기술 강화를 위해 협력 및 규제 완화를 추진하고 있습니다.\n",
            "\n",
            "차이점:\n",
            "1. **데이터센터 및 디지털 인프라**: 일본은 아시아에서 두 번째로 큰 데이터센터 허브를 구축하고 있으며, 디지털 인프라 강화를 목표로 하고 있습니다. 반면, 미국은 우주 클라우드 컴퓨팅 시장을 주도하고 있습니다.\n",
            "2. **사이버보안**: 일본은 자체 개발 소프트웨어로 사이버보안을 강화하고 있으며, 미국은 사이버 보안 대응을 강화하고 있습니다.\n",
            "3. **기술 교류 및 협력**: 미국은 싱가포르와의 전략적 기술 파트너십을 강화하는 등 국가 간 기술 교류를 활발히 하고 있습니다. 일본은 Web3 산업 성장 촉진을 도모하고 있습니다.\n",
            "\n",
            "이러한 공통점과 차이점은 두 나라가 각각의 경제적, 기술적 우선순위에 따라 ICT 정책을 추진하고 있음을 보여줍니다.\u001b[0m\n",
            "\n",
            "\u001b[1m> Finished chain.\u001b[0m\n"
          ]
        }
      ]
    },
    {
      "cell_type": "code",
      "source": [
        "print('최종 답변:', result['output'])"
      ],
      "metadata": {
        "id": "-nHOHk-1OV8H",
        "outputId": "980cf094-e4a6-4c2d-f28a-9c0f50246537",
        "colab": {
          "base_uri": "https://localhost:8080/"
        }
      },
      "execution_count": null,
      "outputs": [
        {
          "output_type": "stream",
          "name": "stdout",
          "text": [
            "최종 답변: 미국과 일본의 ICT 주요 정책에는 몇 가지 공통점과 차이점이 있습니다.\n",
            "\n",
            "공통점:\n",
            "1. **반도체 산업 활성화**: 미국과 일본 모두 반도체 산업을 활성화하기 위한 정책을 추진하고 있습니다. 미국은 CHIPS 법안을 통해 반도체 R&D와 제조를 지원하고 있으며, 일본도 반도체 및 디지털 산업 전략을 통해 관련 산업을 강화하고 있습니다.\n",
            "2. **6G 기술 연구**: 두 나라 모두 6G 기술 개발에 주력하고 있습니다. 미국은 6G 주도권 확보를 위한 연구를 추진하고 있으며, 일본도 6G 기술 강화를 위해 협력 및 규제 완화를 추진하고 있습니다.\n",
            "\n",
            "차이점:\n",
            "1. **데이터센터 및 디지털 인프라**: 일본은 아시아에서 두 번째로 큰 데이터센터 허브를 구축하고 있으며, 디지털 인프라 강화를 목표로 하고 있습니다. 반면, 미국은 우주 클라우드 컴퓨팅 시장을 주도하고 있습니다.\n",
            "2. **사이버보안**: 일본은 자체 개발 소프트웨어로 사이버보안을 강화하고 있으며, 미국은 사이버 보안 대응을 강화하고 있습니다.\n",
            "3. **기술 교류 및 협력**: 미국은 싱가포르와의 전략적 기술 파트너십을 강화하는 등 국가 간 기술 교류를 활발히 하고 있습니다. 일본은 Web3 산업 성장 촉진을 도모하고 있습니다.\n",
            "\n",
            "이러한 공통점과 차이점은 두 나라가 각각의 경제적, 기술적 우선순위에 따라 ICT 정책을 추진하고 있음을 보여줍니다.\n"
          ]
        }
      ]
    },
    {
      "cell_type": "markdown",
      "source": [
        "현재 질문은 \"미국과 일본의 ICT 주요 정책의 공통점과 차이점\"이었으며, 사용 가능한 도구는 retriever_japan과 retriever_usa입니다. 이는 하나의 질문이지만 두 국가의 정보를 필요로 하는 복합적인 성격을 띠고 있습니다.  \n",
        "\n",
        "ReAct 에이전트가 시작되자 에이전트는 질문의 의도에 따라서 적절한 도구를 배정하기 위해서 Thought(생각 과정)을 거칩니다. 생각 과정을 통해 두 국가의 정책을 비교하기 위해서는 각각의 정보가 필요하다고 판단하여, 하나의 질문을 두 단계로 나누어 접근합니다. 먼저 Action 단계에서 retriever_usa 도구를 선택하고 Action Input 단계에서 \"미국의 ICT 주요 정책\"이라는 검색어를 사용합니다.  \n",
        "\n",
        "미국의 정책에 대한 관찰 결과(Observation)를 얻고 난 후, 에이전트는 다시 생각 과정을 통해 일본의 정책 정보도 필요하다고 판단합니다. 이에 따라 두 번째 Action으로 japan_ict 도구를 선택하고 \"일본의 ICT 주요 정책\"을 검색합니다. 이처럼 에이전트는 하나의 복합적인 질문을 해결하기 위해 가용한 도구들을 순차적으로 활용하는 전략을 취합니다.  \n",
        "\n",
        "두 나라의 정책 정보를 모두 수집한 후, 에이전트는 \"미국과 일본의 ICT 주요 정책에 대한 정보를 수집했습니다. 이제 두 국가의 정책의 공통점과 차이점을 분석하겠습니다.\"라는 생각을 거쳐 공통점과 차이점을 체계적으로 정리한 최종 답변(Final Answer)을 작성하게 됩니다."
      ],
      "metadata": {
        "id": "fRVecUpRUOL5"
      }
    },
    {
      "cell_type": "code",
      "source": [
        "result = react_agent_executor.invoke({\"input\": \"미국의 ICT 관련 정부 기구, 주요 법령, 국내 기업 진출 사례 각각 따로 검색해. 그렇게 해서 정보 좀 모아봐. 그리고 나서 일본의 AI 정책도 알려줘.\"})"
      ],
      "metadata": {
        "colab": {
          "base_uri": "https://localhost:8080/"
        },
        "id": "7Syhu5oSZZcn",
        "outputId": "514fa78a-d707-4627-ce79-aa9df3054155"
      },
      "execution_count": null,
      "outputs": [
        {
          "output_type": "stream",
          "name": "stdout",
          "text": [
            "\n",
            "\n",
            "\u001b[1m> Entering new AgentExecutor chain...\u001b[0m\n",
            "\u001b[32;1m\u001b[1;3m미국의 ICT 관련 정보를 수집하기 위해 각 항목에 대해 개별적으로 검색을 진행하겠습니다. 먼저, 미국의 ICT 관련 정부 기구에 대해 알아보겠습니다.\n",
            "\n",
            "Action: usa_ict\n",
            "Action Input: \"미국의 ICT 관련 정부 기구\"\n",
            "\u001b[0m\u001b[33;1m\u001b[1;3mⅠ ICT 국가산업현황 \n",
            " 4\n",
            "(*) SUMMARY\n",
            "1. 국가 개황\n",
            "2. ICT 정부기구\n",
            "3. ICT 주요정책\n",
            "4. ICT 주요법령및규제\n",
            "5. ICT 주요기업\n",
            "6. 한국 협력 및 국내기업 진출사례\n",
            "Ⅱ ICT 이슈Top 10\n",
            " 16\n",
            "(*) SUMMARY\n",
            "① 미국 빅테크 기업, 인공지능 챗봇 개발에 주력\n",
            "② 미국, 일본과 양자컴퓨팅 개발 협력\n",
            "③ 미국, 우주 클라우드 컴퓨팅 시장 주도\n",
            "④ 미국, 드론 배송 도입 활발\n",
            "⑤ 미국, 긍정적인 의료 AI 인식 바탕으로 연구 활발\n",
            "⑥ 미국, 반도체 산업 활성화에 박차\n",
            "\n",
            "27 \n",
            "Ⅱ. ICT 이슈 Top10\n",
            " ⑩미 국방부, 디지털 트윈 기술 도입 확대\n",
            " 국방부의 디지털 트윈 기술 활용 현황\n",
            "• 디지털 트윈이 전투 수행에서의 변혁적 잠재력을 인정받고 있음. 지멘스 정부 기술 \n",
            "(Siemens Government Technologies)의 존 우스티카(John Ustica) 사장은 광범위한 데이터 \n",
            "입력을 활용하여 결과를 모델링하고 예측하는 기술의 능력을 강조함. 이러한 인식은 공급망 \n",
            "관리 및 전장 능력 향상 등의 작업에서 디지털 트윈의 개발 및 적용을 가속화하기 위한\n",
            "\n",
            "7 \n",
            "Ⅰ. ICT 국가 산업 현황\n",
            " 2. ICT 정부기구\n",
            "  ② 연방통신위원회(FCC)\n",
            " 미국 연방통신위원회(FCC)\n",
            "• 미국 연방통신위원회(Federal Communications Commission)는 1934년에 제정된 연방통신법 \n",
            "(Communications Act of 1934)에 의해 설립된 연방정부의 정보통신(ICT)･방송 독립 행정 기관임\n",
            "• 주요 업무는 정보통신기술(ICT)･방송에 관한 기본계획 수립 등 정책 총괄, 소유제한 등 시장 규제 및 \n",
            "경쟁정책 수립, 정보통신기술(ICT)･방송 사업자 허가 및 감독, 주파수 배분 및 할당 관리, 방송편성\n",
            "\n",
            "6 \n",
            "Ⅰ. ICT 국가 산업 현황\n",
            " 2. ICT 정부기구\n",
            "  ① 국가통신정보관리청(NTIA)\n",
            " 국가통신정보관리청(NTIA)\n",
            "• \n",
            "상무부 \n",
            "산하의 \n",
            "국가통신정보관리청(National \n",
            "Telecommunications \n",
            "and \n",
            "Information \n",
            "Administration)은 주로 통신 및 정보 정책 문제에 대하여 대통령에게 자문을 제공할 책임이 \n",
            "있는 행정 기관임\n",
            "• 국가통신정보관리청은 최근 ‘AI 업무’, ‘Open Weight AI 모델’ 등 AI 관련 정책 권장 사항 \n",
            "개발을 위한 대중 참여, 의견 요청 등을 시작함. 또 무선 공급망 혁신 기금을 통해 차세대 무선\u001b[0m\u001b[32;1m\u001b[1;3m미국의 ICT 관련 정부 기구에 대한 정보를 얻었습니다. 이제 미국의 ICT 관련 주요 법령에 대해 알아보겠습니다.\n",
            "\n",
            "Action: usa_ict\n",
            "Action Input: \"미국의 ICT 관련 주요 법령\"\n",
            "\u001b[0m\u001b[33;1m\u001b[1;3m13 \n",
            "Ⅰ. ICT 국가 산업 현황\n",
            " 4. ICT 주요법령 및 규제\n",
            "  ② 반도체 과학법(CHIPS and Science Act)\n",
            " 반도체·전자 기업, $1,660억 규모 투자 유치 \n",
            "• 조 바이든(Joe Biden) 미국 대통령은 2022년 7월 ‘반도체 과학법(CHIPS and Science Act)’을 승인함 \n",
            "• 반도체 과학법은 미국의 경쟁력을 강화하고, 미국의 공급망을 탄력적으로 구축해 국가 안보를 \n",
            "공고히 하며 국가의 주요 기술에 대한 접근을 지원하는 것을 목표로 함. 법률 제정으로 미국 내\n",
            "\n",
            "24 \n",
            "Ⅱ. ICT 이슈 Top10 \n",
            " ⑦미국, 기술 교류를 위한 국가 간 협력 활발\n",
            " 싱가포르와의 전략적 기술 파트너십 강화\n",
            "• 로렌스 웡(Lawrence Wong) 싱가포르 부총리의 워싱턴 D.C. 방문을 계기로, 미국과 싱가포르는 \n",
            "미-싱가포르 중요 및 신흥 기술(CET) 대화를 시작함. 대화는 연구, 혁신 및 상업적 관계를 \n",
            "강화하여 과학적 지식의 국경을 확장하고 번영을 촉진하는 것을 목표로 하며, 인도-태평양 지역,\n",
            "\n",
            "Ⅰ ICT 국가산업현황 \n",
            " 4\n",
            "(*) SUMMARY\n",
            "1. 국가 개황\n",
            "2. ICT 정부기구\n",
            "3. ICT 주요정책\n",
            "4. ICT 주요법령및규제\n",
            "5. ICT 주요기업\n",
            "6. 한국 협력 및 국내기업 진출사례\n",
            "Ⅱ ICT 이슈Top 10\n",
            " 16\n",
            "(*) SUMMARY\n",
            "① 미국 빅테크 기업, 인공지능 챗봇 개발에 주력\n",
            "② 미국, 일본과 양자컴퓨팅 개발 협력\n",
            "③ 미국, 우주 클라우드 컴퓨팅 시장 주도\n",
            "④ 미국, 드론 배송 도입 활발\n",
            "⑤ 미국, 긍정적인 의료 AI 인식 바탕으로 연구 활발\n",
            "⑥ 미국, 반도체 산업 활성화에 박차\n",
            "\n",
            "23 \n",
            "Ⅱ. ICT 이슈 Top10\n",
            " ⑥미국, 반도체 산업 활성화에 박차\n",
            " CHIPS 법안을 통한 연구개발 및 제조 지원 강화\n",
            "• 미국 정부는 반도체법(CHIPS Act)에 따라 반도체 산업을 활성화하기 위해 R&D와 제조 지원에 \n",
            "520억 달러(약 64조 8,400억 원)를 책정함. 이 조치는 반도체 생산 분야에서 미국의 경쟁력을 \n",
            "회복하려는 목적이며, 자금 배분은 세계 공급량의 40%에서 10%로 급감한 국내 생산 능력을 \n",
            "강화하기 위한 전략적 노력임\u001b[0m\u001b[32;1m\u001b[1;3m미국의 ICT 관련 주요 법령에 대한 정보를 얻었습니다. 이제 미국의 국내 기업 진출 사례에 대해 알아보겠습니다.\n",
            "\n",
            "Action: usa_ict\n",
            "Action Input: \"미국의 국내 기업 진출 사례\"\n",
            "\u001b[0m\u001b[33;1m\u001b[1;3m15 \n",
            "Ⅰ. ICT 국가 산업 현황\n",
            " 6. 한국 협력 및 국내기업 진출사례\n",
            " 한국-미국 FTA 체결 여부\n",
            "• 2012년 3월 한-미 FTA 발효됨\n",
            "• 2019년 1월 한-미 FTA 개정 의정서 발효, 투자자-국가분쟁해결제도(ISDS)와 수출기업에 부담이 \n",
            "된 무역구제 절차 개선됨\n",
            "• 2022년 한-미 FTA 10주년을 기념해 정부·국회 대표단이 워싱턴 D.C(Washington DC), \n",
            "미시간(Michigan), 뉴욕(New York) 등을 방문함\n",
            " 한국-미국 ICT 기관 협력 사례\n",
            "• 과기정통부와 미국 기관 간 ICT 협력 사례가 주목됨 \n",
            " 한국-미국 ICT 기업 진출 사례\n",
            "\n",
            "• 다양한 산업과 규모의 한국 기업들이 미국 시장 진출을 위해 노력하고 있음 \n",
            "[표 10] 한국-미국 협력 현황\n",
            "구분\n",
            "날짜\n",
            "내용\n",
            "FTA 체결여부\n",
            "(발효)\n",
            "12.03\n",
            "‣ 한-미 FTA 발효\n",
            "19.01\n",
            "‣ 한-미 FTA 개정 의정서 발효\n",
            "22.03\n",
            "‣ 한-미 FTA 10주년 기념해 정부·국회 대표단 방미 일정 진행\n",
            "정부\n",
            "23.01\n",
            "‣ 경북도, 산타클라라 한인상공회의소와 '실리콘밸리 스타트업 아카데미 \n",
            "경북 MOU' 개최\n",
            "23.01\n",
            "‣ 광주시, AI 스타트업 미국 진출 지원\n",
            "23.01\n",
            "\n",
            "미국\n",
            "\n",
            "‣ 화성시, 실리콘밸리 산타클라라 한인상공회의소와 ‘스타트업 기업의 \n",
            "글로벌 진출 지원 업무협약’ 체결\n",
            "23.07\n",
            "‣ 과기정통부, 한·미 WRC 협력회의 개최\n",
            "24.01\n",
            "‣ 과기정통부, 미국 CES 2024서 ‘디지털 청년 인재 포럼’ 개최\n",
            "기업\n",
            "23.01\n",
            "‣ 바이든 대통령, 한화 솔루션 미국 조지아주 ‘솔라 허브’ 투자 결정 환영\n",
            "23.01\n",
            "‣ 필워크, 미국 법인 설립 및 앱 서비스 론칭으로 미국 시장 본격 진출\n",
            "23.08\u001b[0m\u001b[32;1m\u001b[1;3m미국의 ICT 관련 정보를 수집했습니다. 이제 일본의 AI 정책에 대해 알아보겠습니다.\n",
            "\n",
            "Action: japan_ict\n",
            "Action Input: \"일본의 AI 정책\"\n",
            "\u001b[0m\u001b[36;1m\u001b[1;3m마련함. 지침에는 생성형 AI를 최대한 활용하기 위한 의사소통 기술의 필요성을 언급하는 \n",
            "동시에 기술에 대한 과도한 의존을 경고하고 윤리와 교육의 중요성을 지적함\n",
            "• 일본에는 AI 및 데이터 분석 전문 인력이 부족함. 이에 따라 정부 당국은 가이드라인을 \n",
            "통해 AI의 적절한 활용을 장려하고 기업의 디지털 전환을 지원하는 것을 목표로 하고 있음. \n",
            "일본 교육부는 디지털 분야의 기술과 기타 측면을 개괄적으로 설명하는 인적자원 개발\n",
            "\n",
            "10 \n",
            "Ⅰ. ICT 국가 산업 현황\n",
            " 3. ICT 주요정책\n",
            "  ① 생성형 AI 서비스 사용에 관한 지침 \n",
            " 일본 개인정보위원회, 생성형 AI 사용 지침 공개\n",
            "• 2023년 6월 2일, 일본 개인정보보호위원회가 ‘생성형 AI 서비스 사용에 관한 지침을 발표함\n",
            "• 해당 지침은 구체적인 법 위반을 지적하고 있지는 않으나, 생성형 AI 서비스를 이용 또는 기계 \n",
            "학습을 실행하는 기업, 일반 사용자가 유의해야 할 점을 상세하게 제시함\n",
            "\n",
            "o 목표: 다양한 기회를 이용하여 정부 등이 보유한 데이터의 AI 학습 데이터 제공 촉진에 대해 홍보하고, 일본의 AI \n",
            "모델 개발력 강화에 기여\n",
            "o 노력: - (내각부, 디지털청) 정부에 등록된 2만 2천여 개의 데이터 세트 등을 소개하는 e-Gov 데이터 포털 링크를 AI \n",
            "전략회의, AI 전략팀 홈페이지 등에 게재 \n",
            "- 정부 등이 보유한 데이터에 대해 e-Gov 데이터 포털에 등록하도록 관계 부처에 요청\n",
            "\n",
            "11 \n",
            "Ⅰ. ICT 국가 산업 현황\n",
            " 3. ICT 주요정책\n",
            "  ② AI 학습 데이터 제공 촉진을 위한 액션플랜 ver1.0\n",
            " 일본 AI 모델 성능 향상을 위한 액션플랜\n",
            "• 2023년 11월 일본 내각부는 AI 모델 성능 향상을 위해 정부가 보유한 안전･안심 데이터를 AI \n",
            "개발자에게 AI 학습 데이터로 제공하여 개발할 수 있도록 액션플랜을 공개함\n",
            "[표 7] 액션플랜별 목표 및 대응 \n",
            "1. 정부 등이 보유한 데이터를 AI 학습 데이터로 제공하는 것에 관한 홍보\u001b[0m\u001b[32;1m\u001b[1;3m이제 최종 답변을 알겠습니다.\n",
            "\n",
            "Final Answer: \n",
            "\n",
            "1. **미국의 ICT 관련 정부 기구**:\n",
            "   - **연방통신위원회(FCC)**: 1934년에 설립된 정보통신 및 방송 독립 행정 기관으로, ICT 및 방송에 관한 정책 수립, 시장 규제, 사업자 허가 및 감독, 주파수 관리 등을 담당합니다.\n",
            "   - **국가통신정보관리청(NTIA)**: 상무부 산하 기관으로, 통신 및 정보 정책 문제에 대해 대통령에게 자문을 제공하며, AI 관련 정책 권장 사항 개발을 위한 대중 참여를 시작했습니다.\n",
            "\n",
            "2. **미국의 ICT 관련 주요 법령**:\n",
            "   - **반도체 과학법(CHIPS and Science Act)**: 2022년 7월에 승인된 법으로, 미국의 경쟁력 강화와 공급망 탄력성 구축을 목표로 하며, 반도체 산업 활성화를 위해 520억 달러를 지원합니다.\n",
            "\n",
            "3. **미국의 국내 기업 진출 사례**:\n",
            "   - 다양한 한국 기업들이 미국 시장에 진출하고 있으며, 예로 한화 솔루션의 미국 조지아주 투자, 필워크의 미국 법인 설립 및 앱 서비스 론칭 등이 있습니다.\n",
            "\n",
            "4. **일본의 AI 정책**:\n",
            "   - 일본은 AI 및 데이터 분석 전문 인력 부족 문제를 해결하기 위해 AI의 적절한 활용을 장려하고, 기업의 디지털 전환을 지원하는 가이드라인을 마련했습니다. 또한, AI 학습 데이터 제공 촉진을 위한 액션플랜을 통해 정부가 보유한 데이터를 AI 개발자에게 제공하여 AI 모델 성능 향상을 도모하고 있습니다.\u001b[0m\n",
            "\n",
            "\u001b[1m> Finished chain.\u001b[0m\n"
          ]
        }
      ]
    },
    {
      "cell_type": "code",
      "source": [
        "print('최종 답변:', result['output'])"
      ],
      "metadata": {
        "id": "xtLyDIk8OagM",
        "outputId": "1199d3bd-4395-4f05-93fc-55ce48c16ec0",
        "colab": {
          "base_uri": "https://localhost:8080/"
        }
      },
      "execution_count": null,
      "outputs": [
        {
          "output_type": "stream",
          "name": "stdout",
          "text": [
            "최종 답변: 1. **미국의 ICT 관련 정부 기구**:\n",
            "   - **연방통신위원회(FCC)**: 1934년에 설립된 정보통신 및 방송 독립 행정 기관으로, ICT 및 방송에 관한 정책 수립, 시장 규제, 사업자 허가 및 감독, 주파수 관리 등을 담당합니다.\n",
            "   - **국가통신정보관리청(NTIA)**: 상무부 산하 기관으로, 통신 및 정보 정책 문제에 대해 대통령에게 자문을 제공하며, AI 관련 정책 권장 사항 개발을 위한 대중 참여를 시작했습니다.\n",
            "\n",
            "2. **미국의 ICT 관련 주요 법령**:\n",
            "   - **반도체 과학법(CHIPS and Science Act)**: 2022년 7월에 승인된 법으로, 미국의 경쟁력 강화와 공급망 탄력성 구축을 목표로 하며, 반도체 산업 활성화를 위해 520억 달러를 지원합니다.\n",
            "\n",
            "3. **미국의 국내 기업 진출 사례**:\n",
            "   - 다양한 한국 기업들이 미국 시장에 진출하고 있으며, 예로 한화 솔루션의 미국 조지아주 투자, 필워크의 미국 법인 설립 및 앱 서비스 론칭 등이 있습니다.\n",
            "\n",
            "4. **일본의 AI 정책**:\n",
            "   - 일본은 AI 및 데이터 분석 전문 인력 부족 문제를 해결하기 위해 AI의 적절한 활용을 장려하고, 기업의 디지털 전환을 지원하는 가이드라인을 마련했습니다. 또한, AI 학습 데이터 제공 촉진을 위한 액션플랜을 통해 정부가 보유한 데이터를 AI 개발자에게 제공하여 AI 모델 성능 향상을 도모하고 있습니다.\n"
          ]
        }
      ]
    },
    {
      "cell_type": "markdown",
      "source": [
        "현재 질문은 \"미국의 ICT 관련 정부 기구, 주요 법령, 국내 기업 진출 사례, 그리고 일본의 AI 정책\"입니다. 질문이 명확하게 네 가지 세부 항목으로 나뉘어 있어서 각각에 대한 개별 검색이 필요한 상황입니다.  \n",
        "\n",
        "ReAct 에이전트가 시작되자 에이전트는 질문의 의도에 따라서 적절한 도구를 배정하기 위해서 Thought(생각 과정)을 거칩니다. 에이전트는 미국 관련 세 가지 정보를 먼저 retriever_usa로 순차적으로 검색합니다: \"미국의 ICT 관련 정부 기구\", \"미국의 ICT 관련 주요 법령\", \"미국의 ICT 관련 국내 기업 진출 사례\". 각 검색마다 관찰 결과(Observation)를 확인하고 다음 검색으로 넘어갑니다.  \n",
        "\n",
        "미국 관련 정보 수집을 마친 후, japan_ict 도구를 사용해 \"일본의 AI 정책\"을 검색합니다. 모든 정보가 수집되면 에이전트는 \"이제 최종 답변을 제공할 수 있습니다\"라는 생각을 거쳐 체계적인 최종 답변(Final Answer)을 작성합니다."
      ],
      "metadata": {
        "id": "wSxULgiqUzg1"
      }
    }
  ]
}